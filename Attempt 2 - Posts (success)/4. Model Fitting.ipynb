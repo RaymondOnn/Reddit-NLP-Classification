{
 "cells": [
  {
   "cell_type": "markdown",
   "id": "c0fc7930",
   "metadata": {
    "toc": true
   },
   "source": [
    "<h1>Table of Contents<span class=\"tocSkip\"></span></h1>\n",
    "<div class=\"toc\"><ul class=\"toc-item\"><li><span><a href=\"#Part-4:-Model-Fitting\" data-toc-modified-id=\"Part-4:-Model-Fitting-1\"><span class=\"toc-item-num\">1&nbsp;&nbsp;</span>Part 4: Model Fitting</a></span><ul class=\"toc-item\"><li><span><a href=\"#Import-Libraries\" data-toc-modified-id=\"Import-Libraries-1.1\"><span class=\"toc-item-num\">1.1&nbsp;&nbsp;</span>Import Libraries</a></span></li><li><span><a href=\"#Loading-back-data\" data-toc-modified-id=\"Loading-back-data-1.2\"><span class=\"toc-item-num\">1.2&nbsp;&nbsp;</span>Loading back data</a></span></li><li><span><a href=\"#Prepping-the-data\" data-toc-modified-id=\"Prepping-the-data-1.3\"><span class=\"toc-item-num\">1.3&nbsp;&nbsp;</span>Prepping the data</a></span><ul class=\"toc-item\"><li><span><a href=\"#Splitting-into-target-and-features\" data-toc-modified-id=\"Splitting-into-target-and-features-1.3.1\"><span class=\"toc-item-num\">1.3.1&nbsp;&nbsp;</span>Splitting into target and features</a></span></li><li><span><a href=\"#Train_Test_Split\" data-toc-modified-id=\"Train_Test_Split-1.3.2\"><span class=\"toc-item-num\">1.3.2&nbsp;&nbsp;</span>Train_Test_Split</a></span></li></ul></li><li><span><a href=\"#Training-the-model\" data-toc-modified-id=\"Training-the-model-1.4\"><span class=\"toc-item-num\">1.4&nbsp;&nbsp;</span>Training the model</a></span><ul class=\"toc-item\"><li><span><a href=\"#Word2Vec-Vectorizer\" data-toc-modified-id=\"Word2Vec-Vectorizer-1.4.1\"><span class=\"toc-item-num\">1.4.1&nbsp;&nbsp;</span>Word2Vec Vectorizer</a></span></li><li><span><a href=\"#Setting-up-the-functions\" data-toc-modified-id=\"Setting-up-the-functions-1.4.2\"><span class=\"toc-item-num\">1.4.2&nbsp;&nbsp;</span>Setting up the functions</a></span></li></ul></li><li><span><a href=\"#Model-Evaluation\" data-toc-modified-id=\"Model-Evaluation-1.5\"><span class=\"toc-item-num\">1.5&nbsp;&nbsp;</span>Model Evaluation</a></span><ul class=\"toc-item\"><li><span><a href=\"#Baseline\" data-toc-modified-id=\"Baseline-1.5.1\"><span class=\"toc-item-num\">1.5.1&nbsp;&nbsp;</span>Baseline</a></span></li></ul></li><li><span><a href=\"#Results---Best-Model\" data-toc-modified-id=\"Results---Best-Model-1.6\"><span class=\"toc-item-num\">1.6&nbsp;&nbsp;</span>Results - Best Model</a></span><ul class=\"toc-item\"><li><span><a href=\"#Confusion-Matrix\" data-toc-modified-id=\"Confusion-Matrix-1.6.1\"><span class=\"toc-item-num\">1.6.1&nbsp;&nbsp;</span>Confusion Matrix</a></span></li><li><span><a href=\"#ROC-Curve\" data-toc-modified-id=\"ROC-Curve-1.6.2\"><span class=\"toc-item-num\">1.6.2&nbsp;&nbsp;</span>ROC Curve</a></span></li><li><span><a href=\"#Feature-Importances\" data-toc-modified-id=\"Feature-Importances-1.6.3\"><span class=\"toc-item-num\">1.6.3&nbsp;&nbsp;</span>Feature Importances</a></span></li></ul></li><li><span><a href=\"#Results-&amp;-Analysis\" data-toc-modified-id=\"Results-&amp;-Analysis-1.7\"><span class=\"toc-item-num\">1.7&nbsp;&nbsp;</span>Results &amp; Analysis</a></span></li><li><span><a href=\"#Next-Steps\" data-toc-modified-id=\"Next-Steps-1.8\"><span class=\"toc-item-num\">1.8&nbsp;&nbsp;</span>Next Steps</a></span></li></ul></li></ul></div>"
   ]
  },
  {
   "cell_type": "markdown",
   "id": "4ff58317",
   "metadata": {},
   "source": [
    "# Part 4: Model Fitting"
   ]
  },
  {
   "cell_type": "markdown",
   "id": "c56d0587",
   "metadata": {},
   "source": [
    "## Import Libraries"
   ]
  },
  {
   "cell_type": "code",
   "execution_count": 1,
   "id": "c96ab13b-7b79-4b27-991a-45145d3930cb",
   "metadata": {},
   "outputs": [],
   "source": [
    "# import packages\n",
    "import matplotlib.pyplot as plt\n",
    "import pandas as pd\n",
    "import seaborn as sns\n",
    "import numpy as np\n",
    "import spacy\n",
    "import itertools\n",
    "\n",
    "from sklearn.feature_extraction.text import CountVectorizer, TfidfVectorizer\n",
    "from sklearn.model_selection import train_test_split, cross_val_score, GridSearchCV\n",
    "from sklearn.metrics import accuracy_score, confusion_matrix, classification_report, roc_auc_score,roc_curve\n",
    "from sklearn.naive_bayes import BernoulliNB, GaussianNB,  MultinomialNB\n",
    "from sklearn.base import BaseEstimator, TransformerMixin\n",
    "from sklearn.linear_model import LogisticRegression\n",
    "from sklearn.svm import SVC \n",
    "from tqdm import tqdm\n",
    "import warnings\n",
    "\n",
    "warnings.filterwarnings('ignore')\n",
    "%matplotlib inline\n",
    "%config InlineBackend.figure_format = 'retina' # Render high resolution images"
   ]
  },
  {
   "cell_type": "markdown",
   "id": "76b13958-8994-4e94-bc70-23ac41f011a6",
   "metadata": {},
   "source": [
    "## Loading back data"
   ]
  },
  {
   "cell_type": "code",
   "execution_count": 2,
   "id": "df5cef96-e925-4d53-9f97-403181379325",
   "metadata": {},
   "outputs": [
    {
     "data": {
      "text/html": [
       "<div>\n",
       "<style scoped>\n",
       "    .dataframe tbody tr th:only-of-type {\n",
       "        vertical-align: middle;\n",
       "    }\n",
       "\n",
       "    .dataframe tbody tr th {\n",
       "        vertical-align: top;\n",
       "    }\n",
       "\n",
       "    .dataframe thead th {\n",
       "        text-align: right;\n",
       "    }\n",
       "</style>\n",
       "<table border=\"1\" class=\"dataframe\">\n",
       "  <thead>\n",
       "    <tr style=\"text-align: right;\">\n",
       "      <th></th>\n",
       "      <th>author</th>\n",
       "      <th>text</th>\n",
       "      <th>word_count</th>\n",
       "      <th>date</th>\n",
       "      <th>text_no_sym</th>\n",
       "      <th>text_tok</th>\n",
       "      <th>text_no_stop</th>\n",
       "      <th>text_lemma</th>\n",
       "      <th>sent_count</th>\n",
       "      <th>char_count</th>\n",
       "      <th>is_ethereum</th>\n",
       "    </tr>\n",
       "  </thead>\n",
       "  <tbody>\n",
       "    <tr>\n",
       "      <th>0</th>\n",
       "      <td>theremnanthodl</td>\n",
       "      <td>Bitcoin Town - A fiction novel about using Bit...</td>\n",
       "      <td>11</td>\n",
       "      <td>2021-07-22 07:30:06</td>\n",
       "      <td>bitcoin town a fiction novel about using bitco...</td>\n",
       "      <td>bitcoin, town, fiction, novel, about, using, b...</td>\n",
       "      <td>bitcoin, town, fiction, novel, bitcoin, great,...</td>\n",
       "      <td>bitcoin, town, fiction, novel, bitcoin, great,...</td>\n",
       "      <td>1</td>\n",
       "      <td>75</td>\n",
       "      <td>0</td>\n",
       "    </tr>\n",
       "    <tr>\n",
       "      <th>1</th>\n",
       "      <td>ReadDailyCoin</td>\n",
       "      <td>Crypto Influencers Dorsey, Woods, and Musk Fac...</td>\n",
       "      <td>10</td>\n",
       "      <td>2021-07-22 07:12:50</td>\n",
       "      <td>crypto influencers dorsey woods and musk faceo...</td>\n",
       "      <td>crypto, influencers, dorsey, woods, and, musk,...</td>\n",
       "      <td>influencers, dorsey, woods, musk, faceoff, bwo...</td>\n",
       "      <td>influencer, dorsey, wood, musk, faceoff, bword...</td>\n",
       "      <td>1</td>\n",
       "      <td>77</td>\n",
       "      <td>0</td>\n",
       "    </tr>\n",
       "    <tr>\n",
       "      <th>2</th>\n",
       "      <td>theloiteringlinguist</td>\n",
       "      <td>Elon Musk’s View on Bitcoin (July 21 2021)</td>\n",
       "      <td>6</td>\n",
       "      <td>2021-07-22 06:58:57</td>\n",
       "      <td>elon musks view on bitcoin july</td>\n",
       "      <td>elon, musks, view, on, bitcoin, july</td>\n",
       "      <td>elon, musks, view, bitcoin, july</td>\n",
       "      <td>elon, musk, view, bitcoin, july</td>\n",
       "      <td>1</td>\n",
       "      <td>43</td>\n",
       "      <td>0</td>\n",
       "    </tr>\n",
       "    <tr>\n",
       "      <th>3</th>\n",
       "      <td>Electronic_Chard1987</td>\n",
       "      <td>You’ve undoubtedly heard about crypto currenci...</td>\n",
       "      <td>55</td>\n",
       "      <td>2021-07-22 06:49:17</td>\n",
       "      <td>youve undoubtedly heard about crypto currencie...</td>\n",
       "      <td>you, ve, undoubtedly, heard, about, crypto, cu...</td>\n",
       "      <td>undoubtedly, heard, currencies, bitcoin, ether...</td>\n",
       "      <td>undoubtedly, hear, currency, bitcoin, ethereum...</td>\n",
       "      <td>6</td>\n",
       "      <td>298</td>\n",
       "      <td>0</td>\n",
       "    </tr>\n",
       "    <tr>\n",
       "      <th>4</th>\n",
       "      <td>FarEnergy3518</td>\n",
       "      <td>best crypto video ive ever watched</td>\n",
       "      <td>6</td>\n",
       "      <td>2021-07-22 06:49:14</td>\n",
       "      <td>best crypto video ive ever watched</td>\n",
       "      <td>best, crypto, video, ve, ever, watched</td>\n",
       "      <td>best, video, watched</td>\n",
       "      <td>good, video, watch</td>\n",
       "      <td>1</td>\n",
       "      <td>35</td>\n",
       "      <td>0</td>\n",
       "    </tr>\n",
       "  </tbody>\n",
       "</table>\n",
       "</div>"
      ],
      "text/plain": [
       "                 author                                               text  \\\n",
       "0        theremnanthodl  Bitcoin Town - A fiction novel about using Bit...   \n",
       "1         ReadDailyCoin  Crypto Influencers Dorsey, Woods, and Musk Fac...   \n",
       "2  theloiteringlinguist        Elon Musk’s View on Bitcoin (July 21 2021)    \n",
       "3  Electronic_Chard1987  You’ve undoubtedly heard about crypto currenci...   \n",
       "4         FarEnergy3518                best crypto video ive ever watched    \n",
       "\n",
       "   word_count                 date  \\\n",
       "0          11  2021-07-22 07:30:06   \n",
       "1          10  2021-07-22 07:12:50   \n",
       "2           6  2021-07-22 06:58:57   \n",
       "3          55  2021-07-22 06:49:17   \n",
       "4           6  2021-07-22 06:49:14   \n",
       "\n",
       "                                         text_no_sym  \\\n",
       "0  bitcoin town a fiction novel about using bitco...   \n",
       "1  crypto influencers dorsey woods and musk faceo...   \n",
       "2                    elon musks view on bitcoin july   \n",
       "3  youve undoubtedly heard about crypto currencie...   \n",
       "4                 best crypto video ive ever watched   \n",
       "\n",
       "                                            text_tok  \\\n",
       "0  bitcoin, town, fiction, novel, about, using, b...   \n",
       "1  crypto, influencers, dorsey, woods, and, musk,...   \n",
       "2               elon, musks, view, on, bitcoin, july   \n",
       "3  you, ve, undoubtedly, heard, about, crypto, cu...   \n",
       "4             best, crypto, video, ve, ever, watched   \n",
       "\n",
       "                                        text_no_stop  \\\n",
       "0  bitcoin, town, fiction, novel, bitcoin, great,...   \n",
       "1  influencers, dorsey, woods, musk, faceoff, bwo...   \n",
       "2                   elon, musks, view, bitcoin, july   \n",
       "3  undoubtedly, heard, currencies, bitcoin, ether...   \n",
       "4                               best, video, watched   \n",
       "\n",
       "                                          text_lemma  sent_count  char_count  \\\n",
       "0  bitcoin, town, fiction, novel, bitcoin, great,...           1          75   \n",
       "1  influencer, dorsey, wood, musk, faceoff, bword...           1          77   \n",
       "2                    elon, musk, view, bitcoin, july           1          43   \n",
       "3  undoubtedly, hear, currency, bitcoin, ethereum...           6         298   \n",
       "4                                 good, video, watch           1          35   \n",
       "\n",
       "   is_ethereum  \n",
       "0            0  \n",
       "1            0  \n",
       "2            0  \n",
       "3            0  \n",
       "4            0  "
      ]
     },
     "execution_count": 2,
     "metadata": {},
     "output_type": "execute_result"
    }
   ],
   "source": [
    "raw = pd.read_csv(\"data/transformed_data.csv\")\n",
    "\n",
    "# create a working copy so that we have an untouched version to fall back on\n",
    "df = raw.copy()\n",
    "\n",
    "df.head()"
   ]
  },
  {
   "cell_type": "code",
   "execution_count": 3,
   "id": "0564ffd9-eb5b-4d75-ae06-e87c78464a5e",
   "metadata": {},
   "outputs": [
    {
     "name": "stdout",
     "output_type": "stream",
     "text": [
      "<class 'pandas.core.frame.DataFrame'>\n",
      "RangeIndex: 8167 entries, 0 to 8166\n",
      "Data columns (total 11 columns):\n",
      " #   Column        Non-Null Count  Dtype \n",
      "---  ------        --------------  ----- \n",
      " 0   author        8167 non-null   object\n",
      " 1   text          8167 non-null   object\n",
      " 2   word_count    8167 non-null   int64 \n",
      " 3   date          8167 non-null   object\n",
      " 4   text_no_sym   8167 non-null   object\n",
      " 5   text_tok      8167 non-null   object\n",
      " 6   text_no_stop  8167 non-null   object\n",
      " 7   text_lemma    8167 non-null   object\n",
      " 8   sent_count    8167 non-null   int64 \n",
      " 9   char_count    8167 non-null   int64 \n",
      " 10  is_ethereum   8167 non-null   int64 \n",
      "dtypes: int64(4), object(7)\n",
      "memory usage: 702.0+ KB\n"
     ]
    }
   ],
   "source": [
    "df.info()"
   ]
  },
  {
   "cell_type": "markdown",
   "id": "309a01ee",
   "metadata": {
    "tags": []
   },
   "source": [
    "## Prepping the data"
   ]
  },
  {
   "cell_type": "markdown",
   "id": "2844662b",
   "metadata": {
    "tags": []
   },
   "source": [
    "### Splitting into target and features"
   ]
  },
  {
   "cell_type": "code",
   "execution_count": 4,
   "id": "35639867",
   "metadata": {},
   "outputs": [
    {
     "name": "stdout",
     "output_type": "stream",
     "text": [
      "Index(['text_lemma'], dtype='object')\n",
      "Index(['is_ethereum'], dtype='object')\n"
     ]
    }
   ],
   "source": [
    "\n",
    "# Splitting into target and features\n",
    "COL_NAME = 'text_lemma' \n",
    "x = df[[COL_NAME]]\n",
    "\n",
    "# Negative index means to search from back to front\n",
    "# -1 means retrieve the last column\n",
    "y = df.iloc[:, -1].to_frame()\n",
    "print(x.columns)\n",
    "print(y.columns)"
   ]
  },
  {
   "cell_type": "markdown",
   "id": "6b5e87c7",
   "metadata": {},
   "source": [
    "### Train_Test_Split"
   ]
  },
  {
   "cell_type": "code",
   "execution_count": 5,
   "id": "1158d112",
   "metadata": {
    "scrolled": false
   },
   "outputs": [
    {
     "name": "stdout",
     "output_type": "stream",
     "text": [
      "(5716, 1)\n",
      "(5716, 1)\n"
     ]
    }
   ],
   "source": [
    "x_train, x_test, y_train, y_test = train_test_split(x, y, test_size=0.3, random_state=89, shuffle=True, stratify=y)\n",
    "print(x_train.shape)\n",
    "print(y_train.shape)"
   ]
  },
  {
   "cell_type": "markdown",
   "id": "24f239a6",
   "metadata": {},
   "source": [
    "## Training the model"
   ]
  },
  {
   "cell_type": "markdown",
   "id": "d97dbfc6",
   "metadata": {},
   "source": [
    "### Word2Vec Vectorizer"
   ]
  },
  {
   "cell_type": "code",
   "execution_count": 6,
   "id": "0604d309-9e5e-4c53-9928-25b32a8e5815",
   "metadata": {},
   "outputs": [],
   "source": [
    "# class W2V_Vectorizer(TransformerMixin,BaseEstimator):\n",
    "#     def __init__(self, model=\"en_core_web_lg\"):\n",
    "#         self.model = model\n",
    "\n",
    "#     def fit(self,X,y=None):\n",
    "#         return self\n",
    "\n",
    "#     def transform(self,X):\n",
    "#         nlp = spacy.load(self.model)\n",
    "#         return np.concatenate([nlp(' '.join(list(set(doc.split(\" \"))))).vector.reshape(1,-1) for doc in X])"
   ]
  },
  {
   "cell_type": "markdown",
   "id": "0708ac1d",
   "metadata": {
    "tags": []
   },
   "source": [
    "### Setting up the functions"
   ]
  },
  {
   "cell_type": "code",
   "execution_count": 7,
   "id": "4fcedc00-ed6c-43a5-bcf1-faaa68fdd0c6",
   "metadata": {
    "tags": []
   },
   "outputs": [],
   "source": [
    "def plot_confusion_matrix(y_test, test_preds):\n",
    "    cm = confusion_matrix(y_test, test_preds)\n",
    "    modified_cm = []\n",
    "    for index,value in enumerate(cm):\n",
    "        if index == 0:\n",
    "            modified_cm.append(['TN = ' + str(value[0]), 'FP = ' + str(value[1])])\n",
    "        if index == 1:\n",
    "            modified_cm.append(['FN = ' + str(value[0]), 'TP = ' + str(value[1])])\n",
    "\n",
    "    TN, FP, FN, TP = cm.ravel()\n",
    "\n",
    "    print(\"Precison: {:.3f} (TP / (TP + FP))\".format(TP / (TP + FP)))\n",
    "    print(\"Recall: {:.3f} (TP / (TP + FN))\".format(TP / (TP + FN)))\n",
    "    print(\"F1 Score: {:.3f} (2*TP / (2*TP + FN + FP))\".format(2*TP / (2*TP + FN + FP)), '\\n')\n",
    "    \n",
    "    plt.figure(figsize=(4,4))\n",
    "    sns.heatmap(cm, annot=np.array(modified_cm),\n",
    "                fmt=\"\",\n",
    "                annot_kws={\"size\": 10},\n",
    "                linewidths=.5,\n",
    "                square = True,\n",
    "                cmap = 'Blues',\n",
    "                xticklabels = ['bitcoin', 'ethereum'],\n",
    "                yticklabels = ['bitcoin', 'ethereum'],\n",
    "                )\n",
    "\n",
    "    plt.ylabel('Actual label', fontsize = 10);\n",
    "    plt.xlabel('Predicted label', fontsize = 10);\n",
    "    plt.title('Accuracy Score: {:.3f}'.format((TN+TP) / (TN+TP+FN+FP)), size = 12);\n",
    "    plt.tick_params(labelsize= 8)\n",
    "\n",
    "    \n",
    "def plot_roc_curve(model, x_test, y_test):    \n",
    "    y_pred_prob = model.predict_proba(x_test)[:, 1]\n",
    "    fpr, tpr, thresholds = roc_curve(y_test, y_pred_prob)\n",
    "\n",
    "    # Plot ROC curve\n",
    "    plt.plot([0, 1], [0, 1], 'k--')\n",
    "    plt.plot(fpr, tpr)\n",
    "    plt.xlabel('False Positive Rate')\n",
    "    plt.ylabel('True Positive Rate')\n",
    "    plt.title('ROC Curve')\n",
    "    plt.show()\n",
    "    print('AUC Score: {:.3f}'.format(roc_auc_score(y_test, y_pred_prob))   ) \n",
    "    \n",
    "     \n",
    "# Function to run model -- input vectorizer and model\n",
    "def run_model(v, m, mod_params={}, grid_search=False):\n",
    "\n",
    "    # Initial dictionary to hold model results\n",
    "    results = {}\n",
    "    \n",
    "    pipe = models[m]\n",
    "    vect = vectorizers[v]\n",
    "    \n",
    "    x_train_vect = vect.fit_transform(x_train[COL_NAME].values)\n",
    "    x_test_vect = vect.transform(x_test[COL_NAME].values)\n",
    "    \n",
    "    if grid_search:\n",
    "        # Instantiate list to store gridsearch results\n",
    "        gs = GridSearchCV(pipe, param_grid=mod_params, cv=3, verbose=0, scoring='accuracy', n_jobs=-1)\n",
    "        gs.fit(x_train_vect, np.ravel(y_train)) # best estimator is used during .predict()\n",
    "        pipe = gs\n",
    "        \n",
    "    else:\n",
    "        try:\n",
    "            pipe.fit(x_train_vect, np.ravel(y_train))\n",
    "        except:\n",
    "            return\n",
    "\n",
    "    auc_scores = cross_val_score(pipe, x_train_vect, np.ravel(y_train),  scoring='roc_auc', cv = 5)\n",
    "    acc_scores = cross_val_score(pipe, x_train_vect, np.ravel(y_train),  scoring='accuracy', cv = 5)\n",
    "\n",
    "    # Retrieve metrics\n",
    "    predictions = pipe.predict(x_test_vect)\n",
    "    tn, fp, fn, tp = confusion_matrix(y_test, predictions).ravel()\n",
    "    y_test_pred_prob = pipe.predict_proba(x_test_vect)[:,1]\n",
    "    y_train_pred_prob = pipe.predict_proba(x_train_vect)[:,1]\n",
    "    \n",
    "    results['vectorizer'] = v\n",
    "    results['model'] = m\n",
    "    \n",
    "    results['train_auc_cv'] = auc_scores.mean()\n",
    "    results['test_auc'] = roc_auc_score(y_test, y_test_pred_prob)\n",
    "    results['auc_diff'] = results['train_auc_cv'] - results['test_auc']\n",
    "    \n",
    "    results['precision'] = tp / (tp + fp)                           # % of PREDICTED positives that are CORRECTLY predicted\n",
    "    results['specificity'] = tn / (tn + fp)                         # % of ACTUAL negatives that are CORRECTLY predicted\n",
    "    results['recall'] = tp / (tp + fn)                              # % OF ACTUAL positives that are CORRECTLY predicted\n",
    "    results['f_score'] = 2*tp / (2*tp + fn + fp)\n",
    "    #results['accuracy'] = (tn+tp) / (tn+tp+fn+fp)\n",
    "    \n",
    "    results['train_acc_cv'] = acc_scores.mean() \n",
    "    results['test_acc'] = pipe.score(x_test_vect, y_test)       \n",
    "    results['acc_diff'] = results['train_acc_cv'] - results['test_acc']\n",
    "    \n",
    "    results['TN'] = tn\n",
    "    results['FP'] = fp\n",
    "    results['FN'] = fn\n",
    "    results['TP'] = tp\n",
    "    init_list.append(results)\n",
    "    \n",
    "    if grid_search:\n",
    "        print('### BEST PARAMS ###')\n",
    "        display(pipe.best_params_)\n",
    "        \n",
    "    \n",
    "    #print('### METRICS ###')\n",
    "    #display(results)\n",
    "    #plot_confusion_matrix(y_test, predictions)\n",
    "    \n",
    "    return pipe    \n",
    "    \n"
   ]
  },
  {
   "cell_type": "markdown",
   "id": "2b8aaceb",
   "metadata": {},
   "source": [
    "Looking at Unigrams only"
   ]
  },
  {
   "cell_type": "code",
   "execution_count": 8,
   "id": "0bf3aae9",
   "metadata": {},
   "outputs": [],
   "source": [
    "# Instantiate models\n",
    "models = {'lr': LogisticRegression(random_state=42, penalty='l2', dual=True, solver='liblinear'),\n",
    "          'bnb': BernoulliNB(),\n",
    "          'mnb': MultinomialNB(),\n",
    "          'svc': SVC(random_state=42, probability=True, kernel='linear', gamma='auto')\n",
    "        }\n",
    "\n",
    "params={\n",
    "        'lr':{'C': [1e-5, 1e-3, 1e-1, 1e0, 1e1, 1e2]},\n",
    "        'bnb':{'alpha': [1, 0.5, 0.25, 0.1, 0.05, 0.01]},\n",
    "        'mnb':{'alpha': [1, 0.5, 0.25, 0.1, 0.05, 0.01]},\n",
    "        'svc':{'C': [1e-5, 1e-3, 1e-1, 1e0, 1e1, 1e2]}\n",
    "       }\n"
   ]
  },
  {
   "cell_type": "markdown",
   "id": "94484028",
   "metadata": {},
   "source": [
    "Unigrams and Bigrams"
   ]
  },
  {
   "cell_type": "code",
   "execution_count": 9,
   "id": "b24c04ab",
   "metadata": {
    "scrolled": true
   },
   "outputs": [
    {
     "name": "stderr",
     "output_type": "stream",
     "text": [
      "\r",
      "0it [00:00, ?it/s]"
     ]
    },
    {
     "name": "stdout",
     "output_type": "stream",
     "text": [
      "bi lr\n",
      "### BEST PARAMS ###\n"
     ]
    },
    {
     "data": {
      "text/plain": [
       "{'C': 1.0}"
      ]
     },
     "metadata": {},
     "output_type": "display_data"
    },
    {
     "name": "stderr",
     "output_type": "stream",
     "text": [
      "\r",
      "1it [00:04,  4.47s/it]"
     ]
    },
    {
     "name": "stdout",
     "output_type": "stream",
     "text": [
      "bi bnb\n",
      "### BEST PARAMS ###\n"
     ]
    },
    {
     "data": {
      "text/plain": [
       "{'alpha': 0.05}"
      ]
     },
     "metadata": {},
     "output_type": "display_data"
    },
    {
     "name": "stderr",
     "output_type": "stream",
     "text": [
      "\r",
      "2it [00:05,  2.29s/it]"
     ]
    },
    {
     "name": "stdout",
     "output_type": "stream",
     "text": [
      "bi mnb\n",
      "### BEST PARAMS ###\n"
     ]
    },
    {
     "data": {
      "text/plain": [
       "{'alpha': 0.5}"
      ]
     },
     "metadata": {},
     "output_type": "display_data"
    },
    {
     "name": "stderr",
     "output_type": "stream",
     "text": [
      "\r",
      "3it [00:05,  1.56s/it]"
     ]
    },
    {
     "name": "stdout",
     "output_type": "stream",
     "text": [
      "bi svc\n",
      "### BEST PARAMS ###\n"
     ]
    },
    {
     "data": {
      "text/plain": [
       "{'C': 0.1}"
      ]
     },
     "metadata": {},
     "output_type": "display_data"
    },
    {
     "name": "stderr",
     "output_type": "stream",
     "text": [
      "\r",
      "4it [02:40, 62.02s/it]"
     ]
    },
    {
     "name": "stdout",
     "output_type": "stream",
     "text": [
      "ct lr\n",
      "### BEST PARAMS ###\n"
     ]
    },
    {
     "data": {
      "text/plain": [
       "{'C': 1.0}"
      ]
     },
     "metadata": {},
     "output_type": "display_data"
    },
    {
     "name": "stderr",
     "output_type": "stream",
     "text": [
      "\r",
      "5it [02:42, 40.20s/it]"
     ]
    },
    {
     "name": "stdout",
     "output_type": "stream",
     "text": [
      "ct bnb\n",
      "### BEST PARAMS ###\n"
     ]
    },
    {
     "data": {
      "text/plain": [
       "{'alpha': 0.05}"
      ]
     },
     "metadata": {},
     "output_type": "display_data"
    },
    {
     "name": "stderr",
     "output_type": "stream",
     "text": [
      "\r",
      "6it [02:42, 26.76s/it]"
     ]
    },
    {
     "name": "stdout",
     "output_type": "stream",
     "text": [
      "ct mnb\n",
      "### BEST PARAMS ###\n"
     ]
    },
    {
     "data": {
      "text/plain": [
       "{'alpha': 0.5}"
      ]
     },
     "metadata": {},
     "output_type": "display_data"
    },
    {
     "name": "stderr",
     "output_type": "stream",
     "text": [
      "\r",
      "7it [02:43, 18.21s/it]"
     ]
    },
    {
     "name": "stdout",
     "output_type": "stream",
     "text": [
      "ct svc\n",
      "### BEST PARAMS ###\n"
     ]
    },
    {
     "data": {
      "text/plain": [
       "{'C': 0.1}"
      ]
     },
     "metadata": {},
     "output_type": "display_data"
    },
    {
     "name": "stderr",
     "output_type": "stream",
     "text": [
      "\r",
      "8it [05:16, 61.22s/it]"
     ]
    },
    {
     "name": "stdout",
     "output_type": "stream",
     "text": [
      "tf lr\n",
      "### BEST PARAMS ###\n"
     ]
    },
    {
     "data": {
      "text/plain": [
       "{'C': 1.0}"
      ]
     },
     "metadata": {},
     "output_type": "display_data"
    },
    {
     "name": "stderr",
     "output_type": "stream",
     "text": [
      "\r",
      "9it [05:17, 42.46s/it]"
     ]
    },
    {
     "name": "stdout",
     "output_type": "stream",
     "text": [
      "tf bnb\n",
      "### BEST PARAMS ###\n"
     ]
    },
    {
     "data": {
      "text/plain": [
       "{'alpha': 0.05}"
      ]
     },
     "metadata": {},
     "output_type": "display_data"
    },
    {
     "name": "stderr",
     "output_type": "stream",
     "text": [
      "\r",
      "10it [05:18, 29.56s/it]"
     ]
    },
    {
     "name": "stdout",
     "output_type": "stream",
     "text": [
      "tf mnb\n",
      "### BEST PARAMS ###\n"
     ]
    },
    {
     "data": {
      "text/plain": [
       "{'alpha': 1}"
      ]
     },
     "metadata": {},
     "output_type": "display_data"
    },
    {
     "name": "stderr",
     "output_type": "stream",
     "text": [
      "\r",
      "11it [05:19, 20.70s/it]"
     ]
    },
    {
     "name": "stdout",
     "output_type": "stream",
     "text": [
      "tf svc\n",
      "### BEST PARAMS ###\n"
     ]
    },
    {
     "data": {
      "text/plain": [
       "{'C': 1.0}"
      ]
     },
     "metadata": {},
     "output_type": "display_data"
    },
    {
     "name": "stderr",
     "output_type": "stream",
     "text": [
      "12it [08:37, 43.10s/it]\n"
     ]
    },
    {
     "data": {
      "text/html": [
       "<div>\n",
       "<style scoped>\n",
       "    .dataframe tbody tr th:only-of-type {\n",
       "        vertical-align: middle;\n",
       "    }\n",
       "\n",
       "    .dataframe tbody tr th {\n",
       "        vertical-align: top;\n",
       "    }\n",
       "\n",
       "    .dataframe thead th {\n",
       "        text-align: right;\n",
       "    }\n",
       "</style>\n",
       "<table border=\"1\" class=\"dataframe\">\n",
       "  <thead>\n",
       "    <tr style=\"text-align: right;\">\n",
       "      <th></th>\n",
       "      <th>vectorizer</th>\n",
       "      <th>model</th>\n",
       "      <th>train_auc_cv</th>\n",
       "      <th>test_auc</th>\n",
       "      <th>auc_diff</th>\n",
       "      <th>precision</th>\n",
       "      <th>specificity</th>\n",
       "      <th>recall</th>\n",
       "      <th>f_score</th>\n",
       "      <th>train_acc_cv</th>\n",
       "      <th>test_acc</th>\n",
       "      <th>acc_diff</th>\n",
       "      <th>TN</th>\n",
       "      <th>FP</th>\n",
       "      <th>FN</th>\n",
       "      <th>TP</th>\n",
       "    </tr>\n",
       "  </thead>\n",
       "  <tbody>\n",
       "    <tr>\n",
       "      <th>0</th>\n",
       "      <td>tf</td>\n",
       "      <td>svc</td>\n",
       "      <td>0.903072</td>\n",
       "      <td>0.912857</td>\n",
       "      <td>-0.009785</td>\n",
       "      <td>0.834065</td>\n",
       "      <td>0.852574</td>\n",
       "      <td>0.812660</td>\n",
       "      <td>0.823224</td>\n",
       "      <td>0.815256</td>\n",
       "      <td>0.833537</td>\n",
       "      <td>-0.018282</td>\n",
       "      <td>1093</td>\n",
       "      <td>189</td>\n",
       "      <td>219</td>\n",
       "      <td>950</td>\n",
       "    </tr>\n",
       "    <tr>\n",
       "      <th>1</th>\n",
       "      <td>tf</td>\n",
       "      <td>lr</td>\n",
       "      <td>0.911312</td>\n",
       "      <td>0.919112</td>\n",
       "      <td>-0.007800</td>\n",
       "      <td>0.826724</td>\n",
       "      <td>0.843214</td>\n",
       "      <td>0.820359</td>\n",
       "      <td>0.823529</td>\n",
       "      <td>0.821377</td>\n",
       "      <td>0.832313</td>\n",
       "      <td>-0.010936</td>\n",
       "      <td>1081</td>\n",
       "      <td>201</td>\n",
       "      <td>210</td>\n",
       "      <td>959</td>\n",
       "    </tr>\n",
       "    <tr>\n",
       "      <th>2</th>\n",
       "      <td>ct</td>\n",
       "      <td>lr</td>\n",
       "      <td>0.908802</td>\n",
       "      <td>0.915555</td>\n",
       "      <td>-0.006754</td>\n",
       "      <td>0.801127</td>\n",
       "      <td>0.807332</td>\n",
       "      <td>0.851155</td>\n",
       "      <td>0.825384</td>\n",
       "      <td>0.815079</td>\n",
       "      <td>0.828233</td>\n",
       "      <td>-0.013154</td>\n",
       "      <td>1035</td>\n",
       "      <td>247</td>\n",
       "      <td>174</td>\n",
       "      <td>995</td>\n",
       "    </tr>\n",
       "    <tr>\n",
       "      <th>3</th>\n",
       "      <td>ct</td>\n",
       "      <td>mnb</td>\n",
       "      <td>0.890567</td>\n",
       "      <td>0.907324</td>\n",
       "      <td>-0.016757</td>\n",
       "      <td>0.848542</td>\n",
       "      <td>0.874415</td>\n",
       "      <td>0.771600</td>\n",
       "      <td>0.808244</td>\n",
       "      <td>0.811057</td>\n",
       "      <td>0.825377</td>\n",
       "      <td>-0.014320</td>\n",
       "      <td>1121</td>\n",
       "      <td>161</td>\n",
       "      <td>267</td>\n",
       "      <td>902</td>\n",
       "    </tr>\n",
       "    <tr>\n",
       "      <th>4</th>\n",
       "      <td>bi</td>\n",
       "      <td>lr</td>\n",
       "      <td>0.910626</td>\n",
       "      <td>0.914594</td>\n",
       "      <td>-0.003968</td>\n",
       "      <td>0.795837</td>\n",
       "      <td>0.801092</td>\n",
       "      <td>0.850299</td>\n",
       "      <td>0.822167</td>\n",
       "      <td>0.816828</td>\n",
       "      <td>0.824561</td>\n",
       "      <td>-0.007733</td>\n",
       "      <td>1027</td>\n",
       "      <td>255</td>\n",
       "      <td>175</td>\n",
       "      <td>994</td>\n",
       "    </tr>\n",
       "    <tr>\n",
       "      <th>5</th>\n",
       "      <td>bi</td>\n",
       "      <td>mnb</td>\n",
       "      <td>0.892140</td>\n",
       "      <td>0.904027</td>\n",
       "      <td>-0.011887</td>\n",
       "      <td>0.851003</td>\n",
       "      <td>0.878315</td>\n",
       "      <td>0.762190</td>\n",
       "      <td>0.804152</td>\n",
       "      <td>0.812632</td>\n",
       "      <td>0.822929</td>\n",
       "      <td>-0.010298</td>\n",
       "      <td>1126</td>\n",
       "      <td>156</td>\n",
       "      <td>278</td>\n",
       "      <td>891</td>\n",
       "    </tr>\n",
       "    <tr>\n",
       "      <th>6</th>\n",
       "      <td>tf</td>\n",
       "      <td>mnb</td>\n",
       "      <td>0.885575</td>\n",
       "      <td>0.900694</td>\n",
       "      <td>-0.015119</td>\n",
       "      <td>0.888027</td>\n",
       "      <td>0.921217</td>\n",
       "      <td>0.685201</td>\n",
       "      <td>0.773539</td>\n",
       "      <td>0.801258</td>\n",
       "      <td>0.808650</td>\n",
       "      <td>-0.007391</td>\n",
       "      <td>1181</td>\n",
       "      <td>101</td>\n",
       "      <td>368</td>\n",
       "      <td>801</td>\n",
       "    </tr>\n",
       "    <tr>\n",
       "      <th>7</th>\n",
       "      <td>bi</td>\n",
       "      <td>svc</td>\n",
       "      <td>0.901854</td>\n",
       "      <td>0.911197</td>\n",
       "      <td>-0.009342</td>\n",
       "      <td>0.748037</td>\n",
       "      <td>0.724649</td>\n",
       "      <td>0.896493</td>\n",
       "      <td>0.815564</td>\n",
       "      <td>0.800037</td>\n",
       "      <td>0.806610</td>\n",
       "      <td>-0.006573</td>\n",
       "      <td>929</td>\n",
       "      <td>353</td>\n",
       "      <td>121</td>\n",
       "      <td>1048</td>\n",
       "    </tr>\n",
       "    <tr>\n",
       "      <th>8</th>\n",
       "      <td>ct</td>\n",
       "      <td>svc</td>\n",
       "      <td>0.903864</td>\n",
       "      <td>0.911011</td>\n",
       "      <td>-0.007146</td>\n",
       "      <td>0.748031</td>\n",
       "      <td>0.725429</td>\n",
       "      <td>0.893926</td>\n",
       "      <td>0.814497</td>\n",
       "      <td>0.802312</td>\n",
       "      <td>0.805794</td>\n",
       "      <td>-0.003482</td>\n",
       "      <td>930</td>\n",
       "      <td>352</td>\n",
       "      <td>124</td>\n",
       "      <td>1045</td>\n",
       "    </tr>\n",
       "    <tr>\n",
       "      <th>9</th>\n",
       "      <td>bi</td>\n",
       "      <td>bnb</td>\n",
       "      <td>0.864895</td>\n",
       "      <td>0.871603</td>\n",
       "      <td>-0.006708</td>\n",
       "      <td>0.677888</td>\n",
       "      <td>0.619345</td>\n",
       "      <td>0.878529</td>\n",
       "      <td>0.765276</td>\n",
       "      <td>0.745450</td>\n",
       "      <td>0.742962</td>\n",
       "      <td>0.002488</td>\n",
       "      <td>794</td>\n",
       "      <td>488</td>\n",
       "      <td>142</td>\n",
       "      <td>1027</td>\n",
       "    </tr>\n",
       "    <tr>\n",
       "      <th>10</th>\n",
       "      <td>ct</td>\n",
       "      <td>bnb</td>\n",
       "      <td>0.864895</td>\n",
       "      <td>0.871603</td>\n",
       "      <td>-0.006708</td>\n",
       "      <td>0.677888</td>\n",
       "      <td>0.619345</td>\n",
       "      <td>0.878529</td>\n",
       "      <td>0.765276</td>\n",
       "      <td>0.745450</td>\n",
       "      <td>0.742962</td>\n",
       "      <td>0.002488</td>\n",
       "      <td>794</td>\n",
       "      <td>488</td>\n",
       "      <td>142</td>\n",
       "      <td>1027</td>\n",
       "    </tr>\n",
       "    <tr>\n",
       "      <th>11</th>\n",
       "      <td>tf</td>\n",
       "      <td>bnb</td>\n",
       "      <td>0.864895</td>\n",
       "      <td>0.871603</td>\n",
       "      <td>-0.006708</td>\n",
       "      <td>0.677888</td>\n",
       "      <td>0.619345</td>\n",
       "      <td>0.878529</td>\n",
       "      <td>0.765276</td>\n",
       "      <td>0.745450</td>\n",
       "      <td>0.742962</td>\n",
       "      <td>0.002488</td>\n",
       "      <td>794</td>\n",
       "      <td>488</td>\n",
       "      <td>142</td>\n",
       "      <td>1027</td>\n",
       "    </tr>\n",
       "  </tbody>\n",
       "</table>\n",
       "</div>"
      ],
      "text/plain": [
       "   vectorizer model  train_auc_cv  test_auc  auc_diff  precision  specificity  \\\n",
       "0          tf   svc      0.903072  0.912857 -0.009785   0.834065     0.852574   \n",
       "1          tf    lr      0.911312  0.919112 -0.007800   0.826724     0.843214   \n",
       "2          ct    lr      0.908802  0.915555 -0.006754   0.801127     0.807332   \n",
       "3          ct   mnb      0.890567  0.907324 -0.016757   0.848542     0.874415   \n",
       "4          bi    lr      0.910626  0.914594 -0.003968   0.795837     0.801092   \n",
       "5          bi   mnb      0.892140  0.904027 -0.011887   0.851003     0.878315   \n",
       "6          tf   mnb      0.885575  0.900694 -0.015119   0.888027     0.921217   \n",
       "7          bi   svc      0.901854  0.911197 -0.009342   0.748037     0.724649   \n",
       "8          ct   svc      0.903864  0.911011 -0.007146   0.748031     0.725429   \n",
       "9          bi   bnb      0.864895  0.871603 -0.006708   0.677888     0.619345   \n",
       "10         ct   bnb      0.864895  0.871603 -0.006708   0.677888     0.619345   \n",
       "11         tf   bnb      0.864895  0.871603 -0.006708   0.677888     0.619345   \n",
       "\n",
       "      recall   f_score  train_acc_cv  test_acc  acc_diff    TN   FP   FN    TP  \n",
       "0   0.812660  0.823224      0.815256  0.833537 -0.018282  1093  189  219   950  \n",
       "1   0.820359  0.823529      0.821377  0.832313 -0.010936  1081  201  210   959  \n",
       "2   0.851155  0.825384      0.815079  0.828233 -0.013154  1035  247  174   995  \n",
       "3   0.771600  0.808244      0.811057  0.825377 -0.014320  1121  161  267   902  \n",
       "4   0.850299  0.822167      0.816828  0.824561 -0.007733  1027  255  175   994  \n",
       "5   0.762190  0.804152      0.812632  0.822929 -0.010298  1126  156  278   891  \n",
       "6   0.685201  0.773539      0.801258  0.808650 -0.007391  1181  101  368   801  \n",
       "7   0.896493  0.815564      0.800037  0.806610 -0.006573   929  353  121  1048  \n",
       "8   0.893926  0.814497      0.802312  0.805794 -0.003482   930  352  124  1045  \n",
       "9   0.878529  0.765276      0.745450  0.742962  0.002488   794  488  142  1027  \n",
       "10  0.878529  0.765276      0.745450  0.742962  0.002488   794  488  142  1027  \n",
       "11  0.878529  0.765276      0.745450  0.742962  0.002488   794  488  142  1027  "
      ]
     },
     "metadata": {},
     "output_type": "display_data"
    }
   ],
   "source": [
    "# Set variables\n",
    "NGRAM_RANGE = (1,1)\n",
    "\n",
    "# Instantiate vectorizors\n",
    "vectorizers = {'bi':CountVectorizer(binary=True, max_df=0.95, ngram_range=NGRAM_RANGE),\n",
    "               'ct': CountVectorizer(binary=False, max_df=0.95, ngram_range=NGRAM_RANGE),\n",
    "               'tf': TfidfVectorizer(use_idf=True, max_df=0.95, ngram_range=NGRAM_RANGE)\n",
    "               #'wv': W2V_Vectorizer()  \n",
    "              }\n",
    "\n",
    "# Instantiate lists to store results\n",
    "init_list = []\n",
    "gs_list = []\n",
    "for v, m in tqdm(itertools.product(list(vectorizers.keys()), list(models.keys()))):\n",
    "    print(v, m)\n",
    "    run_model(v, m, mod_params=params[m], grid_search=True)\n",
    "result_df1 = pd.DataFrame(init_list).sort_values(by='test_acc', ascending=False).reset_index(drop=True)\n",
    "display(result_df1)"
   ]
  },
  {
   "cell_type": "code",
   "execution_count": 10,
   "id": "323a3d33",
   "metadata": {},
   "outputs": [
    {
     "name": "stderr",
     "output_type": "stream",
     "text": [
      "\r",
      "0it [00:00, ?it/s]"
     ]
    },
    {
     "name": "stdout",
     "output_type": "stream",
     "text": [
      "bi lr\n",
      "### BEST PARAMS ###\n"
     ]
    },
    {
     "data": {
      "text/plain": [
       "{'C': 1.0}"
      ]
     },
     "metadata": {},
     "output_type": "display_data"
    },
    {
     "name": "stderr",
     "output_type": "stream",
     "text": [
      "\r",
      "1it [00:03,  3.05s/it]"
     ]
    },
    {
     "name": "stdout",
     "output_type": "stream",
     "text": [
      "bi bnb\n",
      "### BEST PARAMS ###\n"
     ]
    },
    {
     "data": {
      "text/plain": [
       "{'alpha': 0.01}"
      ]
     },
     "metadata": {},
     "output_type": "display_data"
    },
    {
     "name": "stderr",
     "output_type": "stream",
     "text": [
      "\r",
      "2it [00:05,  2.41s/it]"
     ]
    },
    {
     "name": "stdout",
     "output_type": "stream",
     "text": [
      "bi mnb\n",
      "### BEST PARAMS ###\n"
     ]
    },
    {
     "data": {
      "text/plain": [
       "{'alpha': 1}"
      ]
     },
     "metadata": {},
     "output_type": "display_data"
    },
    {
     "name": "stderr",
     "output_type": "stream",
     "text": [
      "\r",
      "3it [00:06,  2.03s/it]"
     ]
    },
    {
     "name": "stdout",
     "output_type": "stream",
     "text": [
      "bi svc\n",
      "### BEST PARAMS ###\n"
     ]
    },
    {
     "data": {
      "text/plain": [
       "{'C': 0.1}"
      ]
     },
     "metadata": {},
     "output_type": "display_data"
    },
    {
     "name": "stderr",
     "output_type": "stream",
     "text": [
      "\r",
      "4it [05:16, 123.60s/it]"
     ]
    },
    {
     "name": "stdout",
     "output_type": "stream",
     "text": [
      "ct lr\n",
      "### BEST PARAMS ###\n"
     ]
    },
    {
     "data": {
      "text/plain": [
       "{'C': 1.0}"
      ]
     },
     "metadata": {},
     "output_type": "display_data"
    },
    {
     "name": "stderr",
     "output_type": "stream",
     "text": [
      "\r",
      "5it [05:19, 80.16s/it] "
     ]
    },
    {
     "name": "stdout",
     "output_type": "stream",
     "text": [
      "ct bnb\n",
      "### BEST PARAMS ###\n"
     ]
    },
    {
     "data": {
      "text/plain": [
       "{'alpha': 0.01}"
      ]
     },
     "metadata": {},
     "output_type": "display_data"
    },
    {
     "name": "stderr",
     "output_type": "stream",
     "text": [
      "\r",
      "6it [05:21, 53.57s/it]"
     ]
    },
    {
     "name": "stdout",
     "output_type": "stream",
     "text": [
      "ct mnb\n",
      "### BEST PARAMS ###\n"
     ]
    },
    {
     "data": {
      "text/plain": [
       "{'alpha': 1}"
      ]
     },
     "metadata": {},
     "output_type": "display_data"
    },
    {
     "name": "stderr",
     "output_type": "stream",
     "text": [
      "\r",
      "7it [05:23, 36.57s/it]"
     ]
    },
    {
     "name": "stdout",
     "output_type": "stream",
     "text": [
      "ct svc\n",
      "### BEST PARAMS ###\n"
     ]
    },
    {
     "data": {
      "text/plain": [
       "{'C': 0.1}"
      ]
     },
     "metadata": {},
     "output_type": "display_data"
    },
    {
     "name": "stderr",
     "output_type": "stream",
     "text": [
      "\r",
      "8it [10:14, 117.63s/it]"
     ]
    },
    {
     "name": "stdout",
     "output_type": "stream",
     "text": [
      "tf lr\n",
      "### BEST PARAMS ###\n"
     ]
    },
    {
     "data": {
      "text/plain": [
       "{'C': 1.0}"
      ]
     },
     "metadata": {},
     "output_type": "display_data"
    },
    {
     "name": "stderr",
     "output_type": "stream",
     "text": [
      "\r",
      "9it [10:16, 81.65s/it] "
     ]
    },
    {
     "name": "stdout",
     "output_type": "stream",
     "text": [
      "tf bnb\n",
      "### BEST PARAMS ###\n"
     ]
    },
    {
     "data": {
      "text/plain": [
       "{'alpha': 0.01}"
      ]
     },
     "metadata": {},
     "output_type": "display_data"
    },
    {
     "name": "stderr",
     "output_type": "stream",
     "text": [
      "\r",
      "10it [10:18, 57.04s/it]"
     ]
    },
    {
     "name": "stdout",
     "output_type": "stream",
     "text": [
      "tf mnb\n",
      "### BEST PARAMS ###\n"
     ]
    },
    {
     "data": {
      "text/plain": [
       "{'alpha': 0.5}"
      ]
     },
     "metadata": {},
     "output_type": "display_data"
    },
    {
     "name": "stderr",
     "output_type": "stream",
     "text": [
      "\r",
      "11it [10:20, 40.07s/it]"
     ]
    },
    {
     "name": "stdout",
     "output_type": "stream",
     "text": [
      "tf svc\n",
      "### BEST PARAMS ###\n"
     ]
    },
    {
     "data": {
      "text/plain": [
       "{'C': 1.0}"
      ]
     },
     "metadata": {},
     "output_type": "display_data"
    },
    {
     "name": "stderr",
     "output_type": "stream",
     "text": [
      "12it [16:46, 83.85s/it] \n"
     ]
    },
    {
     "data": {
      "text/html": [
       "<div>\n",
       "<style scoped>\n",
       "    .dataframe tbody tr th:only-of-type {\n",
       "        vertical-align: middle;\n",
       "    }\n",
       "\n",
       "    .dataframe tbody tr th {\n",
       "        vertical-align: top;\n",
       "    }\n",
       "\n",
       "    .dataframe thead th {\n",
       "        text-align: right;\n",
       "    }\n",
       "</style>\n",
       "<table border=\"1\" class=\"dataframe\">\n",
       "  <thead>\n",
       "    <tr style=\"text-align: right;\">\n",
       "      <th></th>\n",
       "      <th>vectorizer</th>\n",
       "      <th>model</th>\n",
       "      <th>train_auc_cv</th>\n",
       "      <th>test_auc</th>\n",
       "      <th>auc_diff</th>\n",
       "      <th>precision</th>\n",
       "      <th>specificity</th>\n",
       "      <th>recall</th>\n",
       "      <th>f_score</th>\n",
       "      <th>train_acc_cv</th>\n",
       "      <th>test_acc</th>\n",
       "      <th>acc_diff</th>\n",
       "      <th>TN</th>\n",
       "      <th>FP</th>\n",
       "      <th>FN</th>\n",
       "      <th>TP</th>\n",
       "    </tr>\n",
       "  </thead>\n",
       "  <tbody>\n",
       "    <tr>\n",
       "      <th>0</th>\n",
       "      <td>tf</td>\n",
       "      <td>lr</td>\n",
       "      <td>0.909393</td>\n",
       "      <td>0.920406</td>\n",
       "      <td>-0.011013</td>\n",
       "      <td>0.851953</td>\n",
       "      <td>0.872855</td>\n",
       "      <td>0.802395</td>\n",
       "      <td>0.826432</td>\n",
       "      <td>0.816654</td>\n",
       "      <td>0.839249</td>\n",
       "      <td>-0.022595</td>\n",
       "      <td>1119</td>\n",
       "      <td>163</td>\n",
       "      <td>231</td>\n",
       "      <td>938</td>\n",
       "    </tr>\n",
       "    <tr>\n",
       "      <th>1</th>\n",
       "      <td>tf</td>\n",
       "      <td>svc</td>\n",
       "      <td>0.907818</td>\n",
       "      <td>0.918834</td>\n",
       "      <td>-0.011016</td>\n",
       "      <td>0.851476</td>\n",
       "      <td>0.874415</td>\n",
       "      <td>0.789564</td>\n",
       "      <td>0.819352</td>\n",
       "      <td>0.818580</td>\n",
       "      <td>0.833945</td>\n",
       "      <td>-0.015365</td>\n",
       "      <td>1121</td>\n",
       "      <td>161</td>\n",
       "      <td>246</td>\n",
       "      <td>923</td>\n",
       "    </tr>\n",
       "    <tr>\n",
       "      <th>2</th>\n",
       "      <td>ct</td>\n",
       "      <td>lr</td>\n",
       "      <td>0.910251</td>\n",
       "      <td>0.919555</td>\n",
       "      <td>-0.009304</td>\n",
       "      <td>0.797932</td>\n",
       "      <td>0.801872</td>\n",
       "      <td>0.857998</td>\n",
       "      <td>0.826876</td>\n",
       "      <td>0.818405</td>\n",
       "      <td>0.828641</td>\n",
       "      <td>-0.010236</td>\n",
       "      <td>1028</td>\n",
       "      <td>254</td>\n",
       "      <td>166</td>\n",
       "      <td>1003</td>\n",
       "    </tr>\n",
       "    <tr>\n",
       "      <th>3</th>\n",
       "      <td>bi</td>\n",
       "      <td>lr</td>\n",
       "      <td>0.912637</td>\n",
       "      <td>0.918547</td>\n",
       "      <td>-0.005910</td>\n",
       "      <td>0.796000</td>\n",
       "      <td>0.801092</td>\n",
       "      <td>0.851155</td>\n",
       "      <td>0.822654</td>\n",
       "      <td>0.815256</td>\n",
       "      <td>0.824969</td>\n",
       "      <td>-0.009713</td>\n",
       "      <td>1027</td>\n",
       "      <td>255</td>\n",
       "      <td>174</td>\n",
       "      <td>995</td>\n",
       "    </tr>\n",
       "    <tr>\n",
       "      <th>4</th>\n",
       "      <td>bi</td>\n",
       "      <td>mnb</td>\n",
       "      <td>0.892007</td>\n",
       "      <td>0.912261</td>\n",
       "      <td>-0.020254</td>\n",
       "      <td>0.902305</td>\n",
       "      <td>0.930577</td>\n",
       "      <td>0.703165</td>\n",
       "      <td>0.790385</td>\n",
       "      <td>0.808432</td>\n",
       "      <td>0.822113</td>\n",
       "      <td>-0.013681</td>\n",
       "      <td>1193</td>\n",
       "      <td>89</td>\n",
       "      <td>347</td>\n",
       "      <td>822</td>\n",
       "    </tr>\n",
       "    <tr>\n",
       "      <th>5</th>\n",
       "      <td>ct</td>\n",
       "      <td>mnb</td>\n",
       "      <td>0.893806</td>\n",
       "      <td>0.911191</td>\n",
       "      <td>-0.017385</td>\n",
       "      <td>0.903262</td>\n",
       "      <td>0.932917</td>\n",
       "      <td>0.686912</td>\n",
       "      <td>0.780369</td>\n",
       "      <td>0.812455</td>\n",
       "      <td>0.815585</td>\n",
       "      <td>-0.003130</td>\n",
       "      <td>1196</td>\n",
       "      <td>86</td>\n",
       "      <td>366</td>\n",
       "      <td>803</td>\n",
       "    </tr>\n",
       "    <tr>\n",
       "      <th>6</th>\n",
       "      <td>ct</td>\n",
       "      <td>svc</td>\n",
       "      <td>0.908048</td>\n",
       "      <td>0.915507</td>\n",
       "      <td>-0.007459</td>\n",
       "      <td>0.758297</td>\n",
       "      <td>0.738690</td>\n",
       "      <td>0.899059</td>\n",
       "      <td>0.822701</td>\n",
       "      <td>0.808783</td>\n",
       "      <td>0.815177</td>\n",
       "      <td>-0.006394</td>\n",
       "      <td>947</td>\n",
       "      <td>335</td>\n",
       "      <td>118</td>\n",
       "      <td>1051</td>\n",
       "    </tr>\n",
       "    <tr>\n",
       "      <th>7</th>\n",
       "      <td>tf</td>\n",
       "      <td>mnb</td>\n",
       "      <td>0.891755</td>\n",
       "      <td>0.912393</td>\n",
       "      <td>-0.020638</td>\n",
       "      <td>0.897321</td>\n",
       "      <td>0.928237</td>\n",
       "      <td>0.687767</td>\n",
       "      <td>0.778692</td>\n",
       "      <td>0.808607</td>\n",
       "      <td>0.813545</td>\n",
       "      <td>-0.004939</td>\n",
       "      <td>1190</td>\n",
       "      <td>92</td>\n",
       "      <td>365</td>\n",
       "      <td>804</td>\n",
       "    </tr>\n",
       "    <tr>\n",
       "      <th>8</th>\n",
       "      <td>bi</td>\n",
       "      <td>svc</td>\n",
       "      <td>0.908455</td>\n",
       "      <td>0.913973</td>\n",
       "      <td>-0.005518</td>\n",
       "      <td>0.753219</td>\n",
       "      <td>0.730889</td>\n",
       "      <td>0.900770</td>\n",
       "      <td>0.820413</td>\n",
       "      <td>0.807909</td>\n",
       "      <td>0.811914</td>\n",
       "      <td>-0.004005</td>\n",
       "      <td>937</td>\n",
       "      <td>345</td>\n",
       "      <td>116</td>\n",
       "      <td>1053</td>\n",
       "    </tr>\n",
       "    <tr>\n",
       "      <th>9</th>\n",
       "      <td>bi</td>\n",
       "      <td>bnb</td>\n",
       "      <td>0.877303</td>\n",
       "      <td>0.886022</td>\n",
       "      <td>-0.008718</td>\n",
       "      <td>0.655609</td>\n",
       "      <td>0.554602</td>\n",
       "      <td>0.929855</td>\n",
       "      <td>0.769013</td>\n",
       "      <td>0.725856</td>\n",
       "      <td>0.733578</td>\n",
       "      <td>-0.007722</td>\n",
       "      <td>711</td>\n",
       "      <td>571</td>\n",
       "      <td>82</td>\n",
       "      <td>1087</td>\n",
       "    </tr>\n",
       "    <tr>\n",
       "      <th>10</th>\n",
       "      <td>ct</td>\n",
       "      <td>bnb</td>\n",
       "      <td>0.877303</td>\n",
       "      <td>0.886022</td>\n",
       "      <td>-0.008718</td>\n",
       "      <td>0.655609</td>\n",
       "      <td>0.554602</td>\n",
       "      <td>0.929855</td>\n",
       "      <td>0.769013</td>\n",
       "      <td>0.725856</td>\n",
       "      <td>0.733578</td>\n",
       "      <td>-0.007722</td>\n",
       "      <td>711</td>\n",
       "      <td>571</td>\n",
       "      <td>82</td>\n",
       "      <td>1087</td>\n",
       "    </tr>\n",
       "    <tr>\n",
       "      <th>11</th>\n",
       "      <td>tf</td>\n",
       "      <td>bnb</td>\n",
       "      <td>0.877303</td>\n",
       "      <td>0.886022</td>\n",
       "      <td>-0.008718</td>\n",
       "      <td>0.655609</td>\n",
       "      <td>0.554602</td>\n",
       "      <td>0.929855</td>\n",
       "      <td>0.769013</td>\n",
       "      <td>0.725856</td>\n",
       "      <td>0.733578</td>\n",
       "      <td>-0.007722</td>\n",
       "      <td>711</td>\n",
       "      <td>571</td>\n",
       "      <td>82</td>\n",
       "      <td>1087</td>\n",
       "    </tr>\n",
       "  </tbody>\n",
       "</table>\n",
       "</div>"
      ],
      "text/plain": [
       "   vectorizer model  train_auc_cv  test_auc  auc_diff  precision  specificity  \\\n",
       "0          tf    lr      0.909393  0.920406 -0.011013   0.851953     0.872855   \n",
       "1          tf   svc      0.907818  0.918834 -0.011016   0.851476     0.874415   \n",
       "2          ct    lr      0.910251  0.919555 -0.009304   0.797932     0.801872   \n",
       "3          bi    lr      0.912637  0.918547 -0.005910   0.796000     0.801092   \n",
       "4          bi   mnb      0.892007  0.912261 -0.020254   0.902305     0.930577   \n",
       "5          ct   mnb      0.893806  0.911191 -0.017385   0.903262     0.932917   \n",
       "6          ct   svc      0.908048  0.915507 -0.007459   0.758297     0.738690   \n",
       "7          tf   mnb      0.891755  0.912393 -0.020638   0.897321     0.928237   \n",
       "8          bi   svc      0.908455  0.913973 -0.005518   0.753219     0.730889   \n",
       "9          bi   bnb      0.877303  0.886022 -0.008718   0.655609     0.554602   \n",
       "10         ct   bnb      0.877303  0.886022 -0.008718   0.655609     0.554602   \n",
       "11         tf   bnb      0.877303  0.886022 -0.008718   0.655609     0.554602   \n",
       "\n",
       "      recall   f_score  train_acc_cv  test_acc  acc_diff    TN   FP   FN    TP  \n",
       "0   0.802395  0.826432      0.816654  0.839249 -0.022595  1119  163  231   938  \n",
       "1   0.789564  0.819352      0.818580  0.833945 -0.015365  1121  161  246   923  \n",
       "2   0.857998  0.826876      0.818405  0.828641 -0.010236  1028  254  166  1003  \n",
       "3   0.851155  0.822654      0.815256  0.824969 -0.009713  1027  255  174   995  \n",
       "4   0.703165  0.790385      0.808432  0.822113 -0.013681  1193   89  347   822  \n",
       "5   0.686912  0.780369      0.812455  0.815585 -0.003130  1196   86  366   803  \n",
       "6   0.899059  0.822701      0.808783  0.815177 -0.006394   947  335  118  1051  \n",
       "7   0.687767  0.778692      0.808607  0.813545 -0.004939  1190   92  365   804  \n",
       "8   0.900770  0.820413      0.807909  0.811914 -0.004005   937  345  116  1053  \n",
       "9   0.929855  0.769013      0.725856  0.733578 -0.007722   711  571   82  1087  \n",
       "10  0.929855  0.769013      0.725856  0.733578 -0.007722   711  571   82  1087  \n",
       "11  0.929855  0.769013      0.725856  0.733578 -0.007722   711  571   82  1087  "
      ]
     },
     "metadata": {},
     "output_type": "display_data"
    }
   ],
   "source": [
    "# Set variables\n",
    "NGRAM_RANGE = (1,2)\n",
    "\n",
    "# Instantiate vectorizors\n",
    "vectorizers = {'bi':CountVectorizer(binary=True, max_df=0.95, ngram_range=NGRAM_RANGE),\n",
    "               'ct': CountVectorizer(binary=False, max_df=0.95, ngram_range=NGRAM_RANGE),\n",
    "               'tf': TfidfVectorizer(use_idf=True, max_df=0.95, ngram_range=NGRAM_RANGE)\n",
    "               #'wv': W2V_Vectorizer()  \n",
    "              }\n",
    "\n",
    "# Instantiate lists to store results\n",
    "init_list = []\n",
    "gs_list = []\n",
    "for v, m in tqdm(itertools.product(list(vectorizers.keys()), list(models.keys()))):\n",
    "    print(v, m)\n",
    "    run_model(v, m, mod_params=params[m], grid_search=True)\n",
    "result_df2 = pd.DataFrame(init_list).sort_values(by='test_acc', ascending=False).reset_index(drop=True)\n",
    "display(result_df2)"
   ]
  },
  {
   "cell_type": "markdown",
   "id": "3115f452",
   "metadata": {},
   "source": [
    "Trigrams and below"
   ]
  },
  {
   "cell_type": "code",
   "execution_count": 11,
   "id": "c37dbcc9",
   "metadata": {},
   "outputs": [
    {
     "name": "stderr",
     "output_type": "stream",
     "text": [
      "\r",
      "0it [00:00, ?it/s]"
     ]
    },
    {
     "name": "stdout",
     "output_type": "stream",
     "text": [
      "bi lr\n",
      "### BEST PARAMS ###\n"
     ]
    },
    {
     "data": {
      "text/plain": [
       "{'C': 1.0}"
      ]
     },
     "metadata": {},
     "output_type": "display_data"
    },
    {
     "name": "stderr",
     "output_type": "stream",
     "text": [
      "\r",
      "1it [00:07,  7.21s/it]"
     ]
    },
    {
     "name": "stdout",
     "output_type": "stream",
     "text": [
      "bi bnb\n",
      "### BEST PARAMS ###\n"
     ]
    },
    {
     "data": {
      "text/plain": [
       "{'alpha': 0.01}"
      ]
     },
     "metadata": {},
     "output_type": "display_data"
    },
    {
     "name": "stderr",
     "output_type": "stream",
     "text": [
      "\r",
      "2it [00:11,  5.30s/it]"
     ]
    },
    {
     "name": "stdout",
     "output_type": "stream",
     "text": [
      "bi mnb\n",
      "### BEST PARAMS ###\n"
     ]
    },
    {
     "data": {
      "text/plain": [
       "{'alpha': 1}"
      ]
     },
     "metadata": {},
     "output_type": "display_data"
    },
    {
     "name": "stderr",
     "output_type": "stream",
     "text": [
      "\r",
      "3it [00:14,  4.36s/it]"
     ]
    },
    {
     "name": "stdout",
     "output_type": "stream",
     "text": [
      "bi svc\n",
      "### BEST PARAMS ###\n"
     ]
    },
    {
     "data": {
      "text/plain": [
       "{'C': 0.1}"
      ]
     },
     "metadata": {},
     "output_type": "display_data"
    },
    {
     "name": "stderr",
     "output_type": "stream",
     "text": [
      "\r",
      "4it [07:19, 170.34s/it]"
     ]
    },
    {
     "name": "stdout",
     "output_type": "stream",
     "text": [
      "ct lr\n",
      "### BEST PARAMS ###\n"
     ]
    },
    {
     "data": {
      "text/plain": [
       "{'C': 1.0}"
      ]
     },
     "metadata": {},
     "output_type": "display_data"
    },
    {
     "name": "stderr",
     "output_type": "stream",
     "text": [
      "\r",
      "5it [07:26, 111.51s/it]"
     ]
    },
    {
     "name": "stdout",
     "output_type": "stream",
     "text": [
      "ct bnb\n",
      "### BEST PARAMS ###\n"
     ]
    },
    {
     "data": {
      "text/plain": [
       "{'alpha': 0.01}"
      ]
     },
     "metadata": {},
     "output_type": "display_data"
    },
    {
     "name": "stderr",
     "output_type": "stream",
     "text": [
      "\r",
      "6it [07:30, 74.96s/it] "
     ]
    },
    {
     "name": "stdout",
     "output_type": "stream",
     "text": [
      "ct mnb\n",
      "### BEST PARAMS ###\n"
     ]
    },
    {
     "data": {
      "text/plain": [
       "{'alpha': 1}"
      ]
     },
     "metadata": {},
     "output_type": "display_data"
    },
    {
     "name": "stderr",
     "output_type": "stream",
     "text": [
      "\r",
      "7it [07:33, 51.54s/it]"
     ]
    },
    {
     "name": "stdout",
     "output_type": "stream",
     "text": [
      "ct svc\n",
      "### BEST PARAMS ###\n"
     ]
    },
    {
     "data": {
      "text/plain": [
       "{'C': 0.1}"
      ]
     },
     "metadata": {},
     "output_type": "display_data"
    },
    {
     "name": "stderr",
     "output_type": "stream",
     "text": [
      "\r",
      "8it [14:12, 161.99s/it]"
     ]
    },
    {
     "name": "stdout",
     "output_type": "stream",
     "text": [
      "tf lr\n",
      "### BEST PARAMS ###\n"
     ]
    },
    {
     "data": {
      "text/plain": [
       "{'C': 1.0}"
      ]
     },
     "metadata": {},
     "output_type": "display_data"
    },
    {
     "name": "stderr",
     "output_type": "stream",
     "text": [
      "\r",
      "9it [14:17, 113.01s/it]"
     ]
    },
    {
     "name": "stdout",
     "output_type": "stream",
     "text": [
      "tf bnb\n",
      "### BEST PARAMS ###\n"
     ]
    },
    {
     "data": {
      "text/plain": [
       "{'alpha': 0.01}"
      ]
     },
     "metadata": {},
     "output_type": "display_data"
    },
    {
     "name": "stderr",
     "output_type": "stream",
     "text": [
      "\r",
      "10it [14:21, 79.36s/it]"
     ]
    },
    {
     "name": "stdout",
     "output_type": "stream",
     "text": [
      "tf mnb\n",
      "### BEST PARAMS ###\n"
     ]
    },
    {
     "data": {
      "text/plain": [
       "{'alpha': 0.5}"
      ]
     },
     "metadata": {},
     "output_type": "display_data"
    },
    {
     "name": "stderr",
     "output_type": "stream",
     "text": [
      "\r",
      "11it [14:24, 56.07s/it]"
     ]
    },
    {
     "name": "stdout",
     "output_type": "stream",
     "text": [
      "tf svc\n",
      "### BEST PARAMS ###\n"
     ]
    },
    {
     "data": {
      "text/plain": [
       "{'C': 1.0}"
      ]
     },
     "metadata": {},
     "output_type": "display_data"
    },
    {
     "name": "stderr",
     "output_type": "stream",
     "text": [
      "12it [23:26, 117.21s/it]\n"
     ]
    },
    {
     "data": {
      "text/html": [
       "<div>\n",
       "<style scoped>\n",
       "    .dataframe tbody tr th:only-of-type {\n",
       "        vertical-align: middle;\n",
       "    }\n",
       "\n",
       "    .dataframe tbody tr th {\n",
       "        vertical-align: top;\n",
       "    }\n",
       "\n",
       "    .dataframe thead th {\n",
       "        text-align: right;\n",
       "    }\n",
       "</style>\n",
       "<table border=\"1\" class=\"dataframe\">\n",
       "  <thead>\n",
       "    <tr style=\"text-align: right;\">\n",
       "      <th></th>\n",
       "      <th>vectorizer</th>\n",
       "      <th>model</th>\n",
       "      <th>train_auc_cv</th>\n",
       "      <th>test_auc</th>\n",
       "      <th>auc_diff</th>\n",
       "      <th>precision</th>\n",
       "      <th>specificity</th>\n",
       "      <th>recall</th>\n",
       "      <th>f_score</th>\n",
       "      <th>train_acc_cv</th>\n",
       "      <th>test_acc</th>\n",
       "      <th>acc_diff</th>\n",
       "      <th>TN</th>\n",
       "      <th>FP</th>\n",
       "      <th>FN</th>\n",
       "      <th>TP</th>\n",
       "    </tr>\n",
       "  </thead>\n",
       "  <tbody>\n",
       "    <tr>\n",
       "      <th>0</th>\n",
       "      <td>tf</td>\n",
       "      <td>svc</td>\n",
       "      <td>0.906574</td>\n",
       "      <td>0.920260</td>\n",
       "      <td>-0.013687</td>\n",
       "      <td>0.863977</td>\n",
       "      <td>0.886895</td>\n",
       "      <td>0.787853</td>\n",
       "      <td>0.824161</td>\n",
       "      <td>0.821379</td>\n",
       "      <td>0.839657</td>\n",
       "      <td>-0.018279</td>\n",
       "      <td>1137</td>\n",
       "      <td>145</td>\n",
       "      <td>248</td>\n",
       "      <td>921</td>\n",
       "    </tr>\n",
       "    <tr>\n",
       "      <th>1</th>\n",
       "      <td>tf</td>\n",
       "      <td>lr</td>\n",
       "      <td>0.909922</td>\n",
       "      <td>0.920035</td>\n",
       "      <td>-0.010112</td>\n",
       "      <td>0.858349</td>\n",
       "      <td>0.882215</td>\n",
       "      <td>0.782720</td>\n",
       "      <td>0.818792</td>\n",
       "      <td>0.820329</td>\n",
       "      <td>0.834761</td>\n",
       "      <td>-0.014432</td>\n",
       "      <td>1131</td>\n",
       "      <td>151</td>\n",
       "      <td>254</td>\n",
       "      <td>915</td>\n",
       "    </tr>\n",
       "    <tr>\n",
       "      <th>2</th>\n",
       "      <td>ct</td>\n",
       "      <td>lr</td>\n",
       "      <td>0.910543</td>\n",
       "      <td>0.920130</td>\n",
       "      <td>-0.009587</td>\n",
       "      <td>0.791406</td>\n",
       "      <td>0.791732</td>\n",
       "      <td>0.866553</td>\n",
       "      <td>0.827276</td>\n",
       "      <td>0.814732</td>\n",
       "      <td>0.827417</td>\n",
       "      <td>-0.012685</td>\n",
       "      <td>1015</td>\n",
       "      <td>267</td>\n",
       "      <td>156</td>\n",
       "      <td>1013</td>\n",
       "    </tr>\n",
       "    <tr>\n",
       "      <th>3</th>\n",
       "      <td>bi</td>\n",
       "      <td>lr</td>\n",
       "      <td>0.911841</td>\n",
       "      <td>0.918938</td>\n",
       "      <td>-0.007098</td>\n",
       "      <td>0.791469</td>\n",
       "      <td>0.794072</td>\n",
       "      <td>0.857143</td>\n",
       "      <td>0.822998</td>\n",
       "      <td>0.813857</td>\n",
       "      <td>0.824153</td>\n",
       "      <td>-0.010296</td>\n",
       "      <td>1018</td>\n",
       "      <td>264</td>\n",
       "      <td>167</td>\n",
       "      <td>1002</td>\n",
       "    </tr>\n",
       "    <tr>\n",
       "      <th>4</th>\n",
       "      <td>ct</td>\n",
       "      <td>svc</td>\n",
       "      <td>0.907264</td>\n",
       "      <td>0.916127</td>\n",
       "      <td>-0.008863</td>\n",
       "      <td>0.759857</td>\n",
       "      <td>0.738690</td>\n",
       "      <td>0.906758</td>\n",
       "      <td>0.826833</td>\n",
       "      <td>0.806510</td>\n",
       "      <td>0.818849</td>\n",
       "      <td>-0.012340</td>\n",
       "      <td>947</td>\n",
       "      <td>335</td>\n",
       "      <td>109</td>\n",
       "      <td>1060</td>\n",
       "    </tr>\n",
       "    <tr>\n",
       "      <th>5</th>\n",
       "      <td>bi</td>\n",
       "      <td>mnb</td>\n",
       "      <td>0.833755</td>\n",
       "      <td>0.911619</td>\n",
       "      <td>-0.077864</td>\n",
       "      <td>0.904815</td>\n",
       "      <td>0.933697</td>\n",
       "      <td>0.691189</td>\n",
       "      <td>0.783705</td>\n",
       "      <td>0.749477</td>\n",
       "      <td>0.818033</td>\n",
       "      <td>-0.068557</td>\n",
       "      <td>1197</td>\n",
       "      <td>85</td>\n",
       "      <td>361</td>\n",
       "      <td>808</td>\n",
       "    </tr>\n",
       "    <tr>\n",
       "      <th>6</th>\n",
       "      <td>bi</td>\n",
       "      <td>svc</td>\n",
       "      <td>0.907857</td>\n",
       "      <td>0.914305</td>\n",
       "      <td>-0.006447</td>\n",
       "      <td>0.753034</td>\n",
       "      <td>0.730109</td>\n",
       "      <td>0.902481</td>\n",
       "      <td>0.821012</td>\n",
       "      <td>0.804935</td>\n",
       "      <td>0.812322</td>\n",
       "      <td>-0.007386</td>\n",
       "      <td>936</td>\n",
       "      <td>346</td>\n",
       "      <td>114</td>\n",
       "      <td>1055</td>\n",
       "    </tr>\n",
       "    <tr>\n",
       "      <th>7</th>\n",
       "      <td>tf</td>\n",
       "      <td>mnb</td>\n",
       "      <td>0.881329</td>\n",
       "      <td>0.913009</td>\n",
       "      <td>-0.031680</td>\n",
       "      <td>0.896396</td>\n",
       "      <td>0.928237</td>\n",
       "      <td>0.680924</td>\n",
       "      <td>0.773943</td>\n",
       "      <td>0.805808</td>\n",
       "      <td>0.810282</td>\n",
       "      <td>-0.004474</td>\n",
       "      <td>1190</td>\n",
       "      <td>92</td>\n",
       "      <td>373</td>\n",
       "      <td>796</td>\n",
       "    </tr>\n",
       "    <tr>\n",
       "      <th>8</th>\n",
       "      <td>ct</td>\n",
       "      <td>mnb</td>\n",
       "      <td>0.867942</td>\n",
       "      <td>0.909010</td>\n",
       "      <td>-0.041068</td>\n",
       "      <td>0.907925</td>\n",
       "      <td>0.938378</td>\n",
       "      <td>0.666382</td>\n",
       "      <td>0.768624</td>\n",
       "      <td>0.784988</td>\n",
       "      <td>0.808650</td>\n",
       "      <td>-0.023661</td>\n",
       "      <td>1203</td>\n",
       "      <td>79</td>\n",
       "      <td>390</td>\n",
       "      <td>779</td>\n",
       "    </tr>\n",
       "    <tr>\n",
       "      <th>9</th>\n",
       "      <td>bi</td>\n",
       "      <td>bnb</td>\n",
       "      <td>0.876494</td>\n",
       "      <td>0.887106</td>\n",
       "      <td>-0.010612</td>\n",
       "      <td>0.604378</td>\n",
       "      <td>0.421997</td>\n",
       "      <td>0.968349</td>\n",
       "      <td>0.744247</td>\n",
       "      <td>0.666376</td>\n",
       "      <td>0.682579</td>\n",
       "      <td>-0.016203</td>\n",
       "      <td>541</td>\n",
       "      <td>741</td>\n",
       "      <td>37</td>\n",
       "      <td>1132</td>\n",
       "    </tr>\n",
       "    <tr>\n",
       "      <th>10</th>\n",
       "      <td>ct</td>\n",
       "      <td>bnb</td>\n",
       "      <td>0.876494</td>\n",
       "      <td>0.887106</td>\n",
       "      <td>-0.010612</td>\n",
       "      <td>0.604378</td>\n",
       "      <td>0.421997</td>\n",
       "      <td>0.968349</td>\n",
       "      <td>0.744247</td>\n",
       "      <td>0.666376</td>\n",
       "      <td>0.682579</td>\n",
       "      <td>-0.016203</td>\n",
       "      <td>541</td>\n",
       "      <td>741</td>\n",
       "      <td>37</td>\n",
       "      <td>1132</td>\n",
       "    </tr>\n",
       "    <tr>\n",
       "      <th>11</th>\n",
       "      <td>tf</td>\n",
       "      <td>bnb</td>\n",
       "      <td>0.876494</td>\n",
       "      <td>0.887106</td>\n",
       "      <td>-0.010612</td>\n",
       "      <td>0.604378</td>\n",
       "      <td>0.421997</td>\n",
       "      <td>0.968349</td>\n",
       "      <td>0.744247</td>\n",
       "      <td>0.666376</td>\n",
       "      <td>0.682579</td>\n",
       "      <td>-0.016203</td>\n",
       "      <td>541</td>\n",
       "      <td>741</td>\n",
       "      <td>37</td>\n",
       "      <td>1132</td>\n",
       "    </tr>\n",
       "  </tbody>\n",
       "</table>\n",
       "</div>"
      ],
      "text/plain": [
       "   vectorizer model  train_auc_cv  test_auc  auc_diff  precision  specificity  \\\n",
       "0          tf   svc      0.906574  0.920260 -0.013687   0.863977     0.886895   \n",
       "1          tf    lr      0.909922  0.920035 -0.010112   0.858349     0.882215   \n",
       "2          ct    lr      0.910543  0.920130 -0.009587   0.791406     0.791732   \n",
       "3          bi    lr      0.911841  0.918938 -0.007098   0.791469     0.794072   \n",
       "4          ct   svc      0.907264  0.916127 -0.008863   0.759857     0.738690   \n",
       "5          bi   mnb      0.833755  0.911619 -0.077864   0.904815     0.933697   \n",
       "6          bi   svc      0.907857  0.914305 -0.006447   0.753034     0.730109   \n",
       "7          tf   mnb      0.881329  0.913009 -0.031680   0.896396     0.928237   \n",
       "8          ct   mnb      0.867942  0.909010 -0.041068   0.907925     0.938378   \n",
       "9          bi   bnb      0.876494  0.887106 -0.010612   0.604378     0.421997   \n",
       "10         ct   bnb      0.876494  0.887106 -0.010612   0.604378     0.421997   \n",
       "11         tf   bnb      0.876494  0.887106 -0.010612   0.604378     0.421997   \n",
       "\n",
       "      recall   f_score  train_acc_cv  test_acc  acc_diff    TN   FP   FN    TP  \n",
       "0   0.787853  0.824161      0.821379  0.839657 -0.018279  1137  145  248   921  \n",
       "1   0.782720  0.818792      0.820329  0.834761 -0.014432  1131  151  254   915  \n",
       "2   0.866553  0.827276      0.814732  0.827417 -0.012685  1015  267  156  1013  \n",
       "3   0.857143  0.822998      0.813857  0.824153 -0.010296  1018  264  167  1002  \n",
       "4   0.906758  0.826833      0.806510  0.818849 -0.012340   947  335  109  1060  \n",
       "5   0.691189  0.783705      0.749477  0.818033 -0.068557  1197   85  361   808  \n",
       "6   0.902481  0.821012      0.804935  0.812322 -0.007386   936  346  114  1055  \n",
       "7   0.680924  0.773943      0.805808  0.810282 -0.004474  1190   92  373   796  \n",
       "8   0.666382  0.768624      0.784988  0.808650 -0.023661  1203   79  390   779  \n",
       "9   0.968349  0.744247      0.666376  0.682579 -0.016203   541  741   37  1132  \n",
       "10  0.968349  0.744247      0.666376  0.682579 -0.016203   541  741   37  1132  \n",
       "11  0.968349  0.744247      0.666376  0.682579 -0.016203   541  741   37  1132  "
      ]
     },
     "metadata": {},
     "output_type": "display_data"
    }
   ],
   "source": [
    "# Set variables\n",
    "NGRAM_RANGE = (1,3)\n",
    "\n",
    "# Instantiate vectorizors\n",
    "vectorizers = {'bi':CountVectorizer(binary=True, max_df=0.95, ngram_range=NGRAM_RANGE),\n",
    "               'ct': CountVectorizer(binary=False, max_df=0.95, ngram_range=NGRAM_RANGE),\n",
    "               'tf': TfidfVectorizer(use_idf=True, max_df=0.95, ngram_range=NGRAM_RANGE)\n",
    "               #'wv': W2V_Vectorizer()  \n",
    "              }\n",
    "\n",
    "# Instantiate lists to store results\n",
    "init_list = []\n",
    "gs_list = []\n",
    "for v, m in tqdm(itertools.product(list(vectorizers.keys()), list(models.keys()))):\n",
    "    print(v, m)\n",
    "    run_model(v, m, mod_params=params[m], grid_search=True)\n",
    "result_df3 = pd.DataFrame(init_list).sort_values(by='test_acc', ascending=False).reset_index(drop=True)\n",
    "display(result_df3)"
   ]
  },
  {
   "cell_type": "markdown",
   "id": "9d1f6af5",
   "metadata": {},
   "source": [
    "## Model Evaluation"
   ]
  },
  {
   "cell_type": "markdown",
   "id": "f53f78ca",
   "metadata": {},
   "source": [
    "Accuracy and ROC AUC were chosen as the metrics for evaluation because the interest here is in selecting a model that is best able to correctly classify a post as belonging to the bitcoin subreddit or the ethereum subreddit (i.e. focus is on maximising true positives and true negatives). \n",
    "\n",
    "**Accuracy** measures how many correct predictions the model made out of all the data points and ranges from 0 to 1. \\\n",
    "**ROC AUC** measures how well separated the underlying prediction distributions made by the model are.The closer it is to 1, the better.\n"
   ]
  },
  {
   "cell_type": "markdown",
   "id": "926b8223",
   "metadata": {},
   "source": [
    "### Baseline"
   ]
  },
  {
   "cell_type": "code",
   "execution_count": 12,
   "id": "1014f23e",
   "metadata": {
    "scrolled": true
   },
   "outputs": [
    {
     "name": "stdout",
     "output_type": "stream",
     "text": [
      "Baseline Score to beat: 0.5230806905840578\n"
     ]
    }
   ],
   "source": [
    "df['is_ethereum'].mean()\n",
    "baseline = max(df['is_ethereum'].mean(), 1 - df['is_ethereum'].mean())\n",
    "print('Baseline Score to beat: {}'.format(baseline))"
   ]
  },
  {
   "cell_type": "code",
   "execution_count": 13,
   "id": "ba79cbdc",
   "metadata": {},
   "outputs": [
    {
     "data": {
      "text/html": [
       "<div>\n",
       "<style scoped>\n",
       "    .dataframe tbody tr th:only-of-type {\n",
       "        vertical-align: middle;\n",
       "    }\n",
       "\n",
       "    .dataframe tbody tr th {\n",
       "        vertical-align: top;\n",
       "    }\n",
       "\n",
       "    .dataframe thead th {\n",
       "        text-align: right;\n",
       "    }\n",
       "</style>\n",
       "<table border=\"1\" class=\"dataframe\">\n",
       "  <thead>\n",
       "    <tr style=\"text-align: right;\">\n",
       "      <th></th>\n",
       "      <th>vectorizer</th>\n",
       "      <th>model</th>\n",
       "      <th>train_auc_cv</th>\n",
       "      <th>test_auc</th>\n",
       "      <th>auc_diff</th>\n",
       "      <th>precision</th>\n",
       "      <th>specificity</th>\n",
       "      <th>recall</th>\n",
       "      <th>f_score</th>\n",
       "      <th>train_acc_cv</th>\n",
       "      <th>test_acc</th>\n",
       "      <th>acc_diff</th>\n",
       "      <th>TN</th>\n",
       "      <th>FP</th>\n",
       "      <th>FN</th>\n",
       "      <th>TP</th>\n",
       "    </tr>\n",
       "  </thead>\n",
       "  <tbody>\n",
       "    <tr>\n",
       "      <th>0</th>\n",
       "      <td>tf</td>\n",
       "      <td>svc</td>\n",
       "      <td>0.903072</td>\n",
       "      <td>0.912857</td>\n",
       "      <td>-0.009785</td>\n",
       "      <td>0.834065</td>\n",
       "      <td>0.852574</td>\n",
       "      <td>0.812660</td>\n",
       "      <td>0.823224</td>\n",
       "      <td>0.815256</td>\n",
       "      <td>0.833537</td>\n",
       "      <td>-0.018282</td>\n",
       "      <td>1093</td>\n",
       "      <td>189</td>\n",
       "      <td>219</td>\n",
       "      <td>950</td>\n",
       "    </tr>\n",
       "    <tr>\n",
       "      <th>1</th>\n",
       "      <td>tf</td>\n",
       "      <td>lr</td>\n",
       "      <td>0.911312</td>\n",
       "      <td>0.919112</td>\n",
       "      <td>-0.007800</td>\n",
       "      <td>0.826724</td>\n",
       "      <td>0.843214</td>\n",
       "      <td>0.820359</td>\n",
       "      <td>0.823529</td>\n",
       "      <td>0.821377</td>\n",
       "      <td>0.832313</td>\n",
       "      <td>-0.010936</td>\n",
       "      <td>1081</td>\n",
       "      <td>201</td>\n",
       "      <td>210</td>\n",
       "      <td>959</td>\n",
       "    </tr>\n",
       "    <tr>\n",
       "      <th>2</th>\n",
       "      <td>ct</td>\n",
       "      <td>lr</td>\n",
       "      <td>0.908802</td>\n",
       "      <td>0.915555</td>\n",
       "      <td>-0.006754</td>\n",
       "      <td>0.801127</td>\n",
       "      <td>0.807332</td>\n",
       "      <td>0.851155</td>\n",
       "      <td>0.825384</td>\n",
       "      <td>0.815079</td>\n",
       "      <td>0.828233</td>\n",
       "      <td>-0.013154</td>\n",
       "      <td>1035</td>\n",
       "      <td>247</td>\n",
       "      <td>174</td>\n",
       "      <td>995</td>\n",
       "    </tr>\n",
       "    <tr>\n",
       "      <th>3</th>\n",
       "      <td>ct</td>\n",
       "      <td>mnb</td>\n",
       "      <td>0.890567</td>\n",
       "      <td>0.907324</td>\n",
       "      <td>-0.016757</td>\n",
       "      <td>0.848542</td>\n",
       "      <td>0.874415</td>\n",
       "      <td>0.771600</td>\n",
       "      <td>0.808244</td>\n",
       "      <td>0.811057</td>\n",
       "      <td>0.825377</td>\n",
       "      <td>-0.014320</td>\n",
       "      <td>1121</td>\n",
       "      <td>161</td>\n",
       "      <td>267</td>\n",
       "      <td>902</td>\n",
       "    </tr>\n",
       "    <tr>\n",
       "      <th>4</th>\n",
       "      <td>bi</td>\n",
       "      <td>lr</td>\n",
       "      <td>0.910626</td>\n",
       "      <td>0.914594</td>\n",
       "      <td>-0.003968</td>\n",
       "      <td>0.795837</td>\n",
       "      <td>0.801092</td>\n",
       "      <td>0.850299</td>\n",
       "      <td>0.822167</td>\n",
       "      <td>0.816828</td>\n",
       "      <td>0.824561</td>\n",
       "      <td>-0.007733</td>\n",
       "      <td>1027</td>\n",
       "      <td>255</td>\n",
       "      <td>175</td>\n",
       "      <td>994</td>\n",
       "    </tr>\n",
       "    <tr>\n",
       "      <th>5</th>\n",
       "      <td>bi</td>\n",
       "      <td>mnb</td>\n",
       "      <td>0.892140</td>\n",
       "      <td>0.904027</td>\n",
       "      <td>-0.011887</td>\n",
       "      <td>0.851003</td>\n",
       "      <td>0.878315</td>\n",
       "      <td>0.762190</td>\n",
       "      <td>0.804152</td>\n",
       "      <td>0.812632</td>\n",
       "      <td>0.822929</td>\n",
       "      <td>-0.010298</td>\n",
       "      <td>1126</td>\n",
       "      <td>156</td>\n",
       "      <td>278</td>\n",
       "      <td>891</td>\n",
       "    </tr>\n",
       "    <tr>\n",
       "      <th>6</th>\n",
       "      <td>tf</td>\n",
       "      <td>mnb</td>\n",
       "      <td>0.885575</td>\n",
       "      <td>0.900694</td>\n",
       "      <td>-0.015119</td>\n",
       "      <td>0.888027</td>\n",
       "      <td>0.921217</td>\n",
       "      <td>0.685201</td>\n",
       "      <td>0.773539</td>\n",
       "      <td>0.801258</td>\n",
       "      <td>0.808650</td>\n",
       "      <td>-0.007391</td>\n",
       "      <td>1181</td>\n",
       "      <td>101</td>\n",
       "      <td>368</td>\n",
       "      <td>801</td>\n",
       "    </tr>\n",
       "    <tr>\n",
       "      <th>7</th>\n",
       "      <td>bi</td>\n",
       "      <td>svc</td>\n",
       "      <td>0.901854</td>\n",
       "      <td>0.911197</td>\n",
       "      <td>-0.009342</td>\n",
       "      <td>0.748037</td>\n",
       "      <td>0.724649</td>\n",
       "      <td>0.896493</td>\n",
       "      <td>0.815564</td>\n",
       "      <td>0.800037</td>\n",
       "      <td>0.806610</td>\n",
       "      <td>-0.006573</td>\n",
       "      <td>929</td>\n",
       "      <td>353</td>\n",
       "      <td>121</td>\n",
       "      <td>1048</td>\n",
       "    </tr>\n",
       "    <tr>\n",
       "      <th>8</th>\n",
       "      <td>ct</td>\n",
       "      <td>svc</td>\n",
       "      <td>0.903864</td>\n",
       "      <td>0.911011</td>\n",
       "      <td>-0.007146</td>\n",
       "      <td>0.748031</td>\n",
       "      <td>0.725429</td>\n",
       "      <td>0.893926</td>\n",
       "      <td>0.814497</td>\n",
       "      <td>0.802312</td>\n",
       "      <td>0.805794</td>\n",
       "      <td>-0.003482</td>\n",
       "      <td>930</td>\n",
       "      <td>352</td>\n",
       "      <td>124</td>\n",
       "      <td>1045</td>\n",
       "    </tr>\n",
       "    <tr>\n",
       "      <th>9</th>\n",
       "      <td>bi</td>\n",
       "      <td>bnb</td>\n",
       "      <td>0.864895</td>\n",
       "      <td>0.871603</td>\n",
       "      <td>-0.006708</td>\n",
       "      <td>0.677888</td>\n",
       "      <td>0.619345</td>\n",
       "      <td>0.878529</td>\n",
       "      <td>0.765276</td>\n",
       "      <td>0.745450</td>\n",
       "      <td>0.742962</td>\n",
       "      <td>0.002488</td>\n",
       "      <td>794</td>\n",
       "      <td>488</td>\n",
       "      <td>142</td>\n",
       "      <td>1027</td>\n",
       "    </tr>\n",
       "    <tr>\n",
       "      <th>10</th>\n",
       "      <td>ct</td>\n",
       "      <td>bnb</td>\n",
       "      <td>0.864895</td>\n",
       "      <td>0.871603</td>\n",
       "      <td>-0.006708</td>\n",
       "      <td>0.677888</td>\n",
       "      <td>0.619345</td>\n",
       "      <td>0.878529</td>\n",
       "      <td>0.765276</td>\n",
       "      <td>0.745450</td>\n",
       "      <td>0.742962</td>\n",
       "      <td>0.002488</td>\n",
       "      <td>794</td>\n",
       "      <td>488</td>\n",
       "      <td>142</td>\n",
       "      <td>1027</td>\n",
       "    </tr>\n",
       "    <tr>\n",
       "      <th>11</th>\n",
       "      <td>tf</td>\n",
       "      <td>bnb</td>\n",
       "      <td>0.864895</td>\n",
       "      <td>0.871603</td>\n",
       "      <td>-0.006708</td>\n",
       "      <td>0.677888</td>\n",
       "      <td>0.619345</td>\n",
       "      <td>0.878529</td>\n",
       "      <td>0.765276</td>\n",
       "      <td>0.745450</td>\n",
       "      <td>0.742962</td>\n",
       "      <td>0.002488</td>\n",
       "      <td>794</td>\n",
       "      <td>488</td>\n",
       "      <td>142</td>\n",
       "      <td>1027</td>\n",
       "    </tr>\n",
       "  </tbody>\n",
       "</table>\n",
       "</div>"
      ],
      "text/plain": [
       "   vectorizer model  train_auc_cv  test_auc  auc_diff  precision  specificity  \\\n",
       "0          tf   svc      0.903072  0.912857 -0.009785   0.834065     0.852574   \n",
       "1          tf    lr      0.911312  0.919112 -0.007800   0.826724     0.843214   \n",
       "2          ct    lr      0.908802  0.915555 -0.006754   0.801127     0.807332   \n",
       "3          ct   mnb      0.890567  0.907324 -0.016757   0.848542     0.874415   \n",
       "4          bi    lr      0.910626  0.914594 -0.003968   0.795837     0.801092   \n",
       "5          bi   mnb      0.892140  0.904027 -0.011887   0.851003     0.878315   \n",
       "6          tf   mnb      0.885575  0.900694 -0.015119   0.888027     0.921217   \n",
       "7          bi   svc      0.901854  0.911197 -0.009342   0.748037     0.724649   \n",
       "8          ct   svc      0.903864  0.911011 -0.007146   0.748031     0.725429   \n",
       "9          bi   bnb      0.864895  0.871603 -0.006708   0.677888     0.619345   \n",
       "10         ct   bnb      0.864895  0.871603 -0.006708   0.677888     0.619345   \n",
       "11         tf   bnb      0.864895  0.871603 -0.006708   0.677888     0.619345   \n",
       "\n",
       "      recall   f_score  train_acc_cv  test_acc  acc_diff    TN   FP   FN    TP  \n",
       "0   0.812660  0.823224      0.815256  0.833537 -0.018282  1093  189  219   950  \n",
       "1   0.820359  0.823529      0.821377  0.832313 -0.010936  1081  201  210   959  \n",
       "2   0.851155  0.825384      0.815079  0.828233 -0.013154  1035  247  174   995  \n",
       "3   0.771600  0.808244      0.811057  0.825377 -0.014320  1121  161  267   902  \n",
       "4   0.850299  0.822167      0.816828  0.824561 -0.007733  1027  255  175   994  \n",
       "5   0.762190  0.804152      0.812632  0.822929 -0.010298  1126  156  278   891  \n",
       "6   0.685201  0.773539      0.801258  0.808650 -0.007391  1181  101  368   801  \n",
       "7   0.896493  0.815564      0.800037  0.806610 -0.006573   929  353  121  1048  \n",
       "8   0.893926  0.814497      0.802312  0.805794 -0.003482   930  352  124  1045  \n",
       "9   0.878529  0.765276      0.745450  0.742962  0.002488   794  488  142  1027  \n",
       "10  0.878529  0.765276      0.745450  0.742962  0.002488   794  488  142  1027  \n",
       "11  0.878529  0.765276      0.745450  0.742962  0.002488   794  488  142  1027  "
      ]
     },
     "metadata": {},
     "output_type": "display_data"
    },
    {
     "data": {
      "text/html": [
       "<div>\n",
       "<style scoped>\n",
       "    .dataframe tbody tr th:only-of-type {\n",
       "        vertical-align: middle;\n",
       "    }\n",
       "\n",
       "    .dataframe tbody tr th {\n",
       "        vertical-align: top;\n",
       "    }\n",
       "\n",
       "    .dataframe thead th {\n",
       "        text-align: right;\n",
       "    }\n",
       "</style>\n",
       "<table border=\"1\" class=\"dataframe\">\n",
       "  <thead>\n",
       "    <tr style=\"text-align: right;\">\n",
       "      <th></th>\n",
       "      <th>vectorizer</th>\n",
       "      <th>model</th>\n",
       "      <th>train_auc_cv</th>\n",
       "      <th>test_auc</th>\n",
       "      <th>auc_diff</th>\n",
       "      <th>precision</th>\n",
       "      <th>specificity</th>\n",
       "      <th>recall</th>\n",
       "      <th>f_score</th>\n",
       "      <th>train_acc_cv</th>\n",
       "      <th>test_acc</th>\n",
       "      <th>acc_diff</th>\n",
       "      <th>TN</th>\n",
       "      <th>FP</th>\n",
       "      <th>FN</th>\n",
       "      <th>TP</th>\n",
       "    </tr>\n",
       "  </thead>\n",
       "  <tbody>\n",
       "    <tr>\n",
       "      <th>0</th>\n",
       "      <td>tf</td>\n",
       "      <td>lr</td>\n",
       "      <td>0.909393</td>\n",
       "      <td>0.920406</td>\n",
       "      <td>-0.011013</td>\n",
       "      <td>0.851953</td>\n",
       "      <td>0.872855</td>\n",
       "      <td>0.802395</td>\n",
       "      <td>0.826432</td>\n",
       "      <td>0.816654</td>\n",
       "      <td>0.839249</td>\n",
       "      <td>-0.022595</td>\n",
       "      <td>1119</td>\n",
       "      <td>163</td>\n",
       "      <td>231</td>\n",
       "      <td>938</td>\n",
       "    </tr>\n",
       "    <tr>\n",
       "      <th>1</th>\n",
       "      <td>tf</td>\n",
       "      <td>svc</td>\n",
       "      <td>0.907818</td>\n",
       "      <td>0.918834</td>\n",
       "      <td>-0.011016</td>\n",
       "      <td>0.851476</td>\n",
       "      <td>0.874415</td>\n",
       "      <td>0.789564</td>\n",
       "      <td>0.819352</td>\n",
       "      <td>0.818580</td>\n",
       "      <td>0.833945</td>\n",
       "      <td>-0.015365</td>\n",
       "      <td>1121</td>\n",
       "      <td>161</td>\n",
       "      <td>246</td>\n",
       "      <td>923</td>\n",
       "    </tr>\n",
       "    <tr>\n",
       "      <th>2</th>\n",
       "      <td>ct</td>\n",
       "      <td>lr</td>\n",
       "      <td>0.910251</td>\n",
       "      <td>0.919555</td>\n",
       "      <td>-0.009304</td>\n",
       "      <td>0.797932</td>\n",
       "      <td>0.801872</td>\n",
       "      <td>0.857998</td>\n",
       "      <td>0.826876</td>\n",
       "      <td>0.818405</td>\n",
       "      <td>0.828641</td>\n",
       "      <td>-0.010236</td>\n",
       "      <td>1028</td>\n",
       "      <td>254</td>\n",
       "      <td>166</td>\n",
       "      <td>1003</td>\n",
       "    </tr>\n",
       "    <tr>\n",
       "      <th>3</th>\n",
       "      <td>bi</td>\n",
       "      <td>lr</td>\n",
       "      <td>0.912637</td>\n",
       "      <td>0.918547</td>\n",
       "      <td>-0.005910</td>\n",
       "      <td>0.796000</td>\n",
       "      <td>0.801092</td>\n",
       "      <td>0.851155</td>\n",
       "      <td>0.822654</td>\n",
       "      <td>0.815256</td>\n",
       "      <td>0.824969</td>\n",
       "      <td>-0.009713</td>\n",
       "      <td>1027</td>\n",
       "      <td>255</td>\n",
       "      <td>174</td>\n",
       "      <td>995</td>\n",
       "    </tr>\n",
       "    <tr>\n",
       "      <th>4</th>\n",
       "      <td>bi</td>\n",
       "      <td>mnb</td>\n",
       "      <td>0.892007</td>\n",
       "      <td>0.912261</td>\n",
       "      <td>-0.020254</td>\n",
       "      <td>0.902305</td>\n",
       "      <td>0.930577</td>\n",
       "      <td>0.703165</td>\n",
       "      <td>0.790385</td>\n",
       "      <td>0.808432</td>\n",
       "      <td>0.822113</td>\n",
       "      <td>-0.013681</td>\n",
       "      <td>1193</td>\n",
       "      <td>89</td>\n",
       "      <td>347</td>\n",
       "      <td>822</td>\n",
       "    </tr>\n",
       "    <tr>\n",
       "      <th>5</th>\n",
       "      <td>ct</td>\n",
       "      <td>mnb</td>\n",
       "      <td>0.893806</td>\n",
       "      <td>0.911191</td>\n",
       "      <td>-0.017385</td>\n",
       "      <td>0.903262</td>\n",
       "      <td>0.932917</td>\n",
       "      <td>0.686912</td>\n",
       "      <td>0.780369</td>\n",
       "      <td>0.812455</td>\n",
       "      <td>0.815585</td>\n",
       "      <td>-0.003130</td>\n",
       "      <td>1196</td>\n",
       "      <td>86</td>\n",
       "      <td>366</td>\n",
       "      <td>803</td>\n",
       "    </tr>\n",
       "    <tr>\n",
       "      <th>6</th>\n",
       "      <td>ct</td>\n",
       "      <td>svc</td>\n",
       "      <td>0.908048</td>\n",
       "      <td>0.915507</td>\n",
       "      <td>-0.007459</td>\n",
       "      <td>0.758297</td>\n",
       "      <td>0.738690</td>\n",
       "      <td>0.899059</td>\n",
       "      <td>0.822701</td>\n",
       "      <td>0.808783</td>\n",
       "      <td>0.815177</td>\n",
       "      <td>-0.006394</td>\n",
       "      <td>947</td>\n",
       "      <td>335</td>\n",
       "      <td>118</td>\n",
       "      <td>1051</td>\n",
       "    </tr>\n",
       "    <tr>\n",
       "      <th>7</th>\n",
       "      <td>tf</td>\n",
       "      <td>mnb</td>\n",
       "      <td>0.891755</td>\n",
       "      <td>0.912393</td>\n",
       "      <td>-0.020638</td>\n",
       "      <td>0.897321</td>\n",
       "      <td>0.928237</td>\n",
       "      <td>0.687767</td>\n",
       "      <td>0.778692</td>\n",
       "      <td>0.808607</td>\n",
       "      <td>0.813545</td>\n",
       "      <td>-0.004939</td>\n",
       "      <td>1190</td>\n",
       "      <td>92</td>\n",
       "      <td>365</td>\n",
       "      <td>804</td>\n",
       "    </tr>\n",
       "    <tr>\n",
       "      <th>8</th>\n",
       "      <td>bi</td>\n",
       "      <td>svc</td>\n",
       "      <td>0.908455</td>\n",
       "      <td>0.913973</td>\n",
       "      <td>-0.005518</td>\n",
       "      <td>0.753219</td>\n",
       "      <td>0.730889</td>\n",
       "      <td>0.900770</td>\n",
       "      <td>0.820413</td>\n",
       "      <td>0.807909</td>\n",
       "      <td>0.811914</td>\n",
       "      <td>-0.004005</td>\n",
       "      <td>937</td>\n",
       "      <td>345</td>\n",
       "      <td>116</td>\n",
       "      <td>1053</td>\n",
       "    </tr>\n",
       "    <tr>\n",
       "      <th>9</th>\n",
       "      <td>bi</td>\n",
       "      <td>bnb</td>\n",
       "      <td>0.877303</td>\n",
       "      <td>0.886022</td>\n",
       "      <td>-0.008718</td>\n",
       "      <td>0.655609</td>\n",
       "      <td>0.554602</td>\n",
       "      <td>0.929855</td>\n",
       "      <td>0.769013</td>\n",
       "      <td>0.725856</td>\n",
       "      <td>0.733578</td>\n",
       "      <td>-0.007722</td>\n",
       "      <td>711</td>\n",
       "      <td>571</td>\n",
       "      <td>82</td>\n",
       "      <td>1087</td>\n",
       "    </tr>\n",
       "    <tr>\n",
       "      <th>10</th>\n",
       "      <td>ct</td>\n",
       "      <td>bnb</td>\n",
       "      <td>0.877303</td>\n",
       "      <td>0.886022</td>\n",
       "      <td>-0.008718</td>\n",
       "      <td>0.655609</td>\n",
       "      <td>0.554602</td>\n",
       "      <td>0.929855</td>\n",
       "      <td>0.769013</td>\n",
       "      <td>0.725856</td>\n",
       "      <td>0.733578</td>\n",
       "      <td>-0.007722</td>\n",
       "      <td>711</td>\n",
       "      <td>571</td>\n",
       "      <td>82</td>\n",
       "      <td>1087</td>\n",
       "    </tr>\n",
       "    <tr>\n",
       "      <th>11</th>\n",
       "      <td>tf</td>\n",
       "      <td>bnb</td>\n",
       "      <td>0.877303</td>\n",
       "      <td>0.886022</td>\n",
       "      <td>-0.008718</td>\n",
       "      <td>0.655609</td>\n",
       "      <td>0.554602</td>\n",
       "      <td>0.929855</td>\n",
       "      <td>0.769013</td>\n",
       "      <td>0.725856</td>\n",
       "      <td>0.733578</td>\n",
       "      <td>-0.007722</td>\n",
       "      <td>711</td>\n",
       "      <td>571</td>\n",
       "      <td>82</td>\n",
       "      <td>1087</td>\n",
       "    </tr>\n",
       "  </tbody>\n",
       "</table>\n",
       "</div>"
      ],
      "text/plain": [
       "   vectorizer model  train_auc_cv  test_auc  auc_diff  precision  specificity  \\\n",
       "0          tf    lr      0.909393  0.920406 -0.011013   0.851953     0.872855   \n",
       "1          tf   svc      0.907818  0.918834 -0.011016   0.851476     0.874415   \n",
       "2          ct    lr      0.910251  0.919555 -0.009304   0.797932     0.801872   \n",
       "3          bi    lr      0.912637  0.918547 -0.005910   0.796000     0.801092   \n",
       "4          bi   mnb      0.892007  0.912261 -0.020254   0.902305     0.930577   \n",
       "5          ct   mnb      0.893806  0.911191 -0.017385   0.903262     0.932917   \n",
       "6          ct   svc      0.908048  0.915507 -0.007459   0.758297     0.738690   \n",
       "7          tf   mnb      0.891755  0.912393 -0.020638   0.897321     0.928237   \n",
       "8          bi   svc      0.908455  0.913973 -0.005518   0.753219     0.730889   \n",
       "9          bi   bnb      0.877303  0.886022 -0.008718   0.655609     0.554602   \n",
       "10         ct   bnb      0.877303  0.886022 -0.008718   0.655609     0.554602   \n",
       "11         tf   bnb      0.877303  0.886022 -0.008718   0.655609     0.554602   \n",
       "\n",
       "      recall   f_score  train_acc_cv  test_acc  acc_diff    TN   FP   FN    TP  \n",
       "0   0.802395  0.826432      0.816654  0.839249 -0.022595  1119  163  231   938  \n",
       "1   0.789564  0.819352      0.818580  0.833945 -0.015365  1121  161  246   923  \n",
       "2   0.857998  0.826876      0.818405  0.828641 -0.010236  1028  254  166  1003  \n",
       "3   0.851155  0.822654      0.815256  0.824969 -0.009713  1027  255  174   995  \n",
       "4   0.703165  0.790385      0.808432  0.822113 -0.013681  1193   89  347   822  \n",
       "5   0.686912  0.780369      0.812455  0.815585 -0.003130  1196   86  366   803  \n",
       "6   0.899059  0.822701      0.808783  0.815177 -0.006394   947  335  118  1051  \n",
       "7   0.687767  0.778692      0.808607  0.813545 -0.004939  1190   92  365   804  \n",
       "8   0.900770  0.820413      0.807909  0.811914 -0.004005   937  345  116  1053  \n",
       "9   0.929855  0.769013      0.725856  0.733578 -0.007722   711  571   82  1087  \n",
       "10  0.929855  0.769013      0.725856  0.733578 -0.007722   711  571   82  1087  \n",
       "11  0.929855  0.769013      0.725856  0.733578 -0.007722   711  571   82  1087  "
      ]
     },
     "metadata": {},
     "output_type": "display_data"
    },
    {
     "data": {
      "text/html": [
       "<div>\n",
       "<style scoped>\n",
       "    .dataframe tbody tr th:only-of-type {\n",
       "        vertical-align: middle;\n",
       "    }\n",
       "\n",
       "    .dataframe tbody tr th {\n",
       "        vertical-align: top;\n",
       "    }\n",
       "\n",
       "    .dataframe thead th {\n",
       "        text-align: right;\n",
       "    }\n",
       "</style>\n",
       "<table border=\"1\" class=\"dataframe\">\n",
       "  <thead>\n",
       "    <tr style=\"text-align: right;\">\n",
       "      <th></th>\n",
       "      <th>vectorizer</th>\n",
       "      <th>model</th>\n",
       "      <th>train_auc_cv</th>\n",
       "      <th>test_auc</th>\n",
       "      <th>auc_diff</th>\n",
       "      <th>precision</th>\n",
       "      <th>specificity</th>\n",
       "      <th>recall</th>\n",
       "      <th>f_score</th>\n",
       "      <th>train_acc_cv</th>\n",
       "      <th>test_acc</th>\n",
       "      <th>acc_diff</th>\n",
       "      <th>TN</th>\n",
       "      <th>FP</th>\n",
       "      <th>FN</th>\n",
       "      <th>TP</th>\n",
       "    </tr>\n",
       "  </thead>\n",
       "  <tbody>\n",
       "    <tr>\n",
       "      <th>0</th>\n",
       "      <td>tf</td>\n",
       "      <td>svc</td>\n",
       "      <td>0.906574</td>\n",
       "      <td>0.920260</td>\n",
       "      <td>-0.013687</td>\n",
       "      <td>0.863977</td>\n",
       "      <td>0.886895</td>\n",
       "      <td>0.787853</td>\n",
       "      <td>0.824161</td>\n",
       "      <td>0.821379</td>\n",
       "      <td>0.839657</td>\n",
       "      <td>-0.018279</td>\n",
       "      <td>1137</td>\n",
       "      <td>145</td>\n",
       "      <td>248</td>\n",
       "      <td>921</td>\n",
       "    </tr>\n",
       "    <tr>\n",
       "      <th>1</th>\n",
       "      <td>tf</td>\n",
       "      <td>lr</td>\n",
       "      <td>0.909922</td>\n",
       "      <td>0.920035</td>\n",
       "      <td>-0.010112</td>\n",
       "      <td>0.858349</td>\n",
       "      <td>0.882215</td>\n",
       "      <td>0.782720</td>\n",
       "      <td>0.818792</td>\n",
       "      <td>0.820329</td>\n",
       "      <td>0.834761</td>\n",
       "      <td>-0.014432</td>\n",
       "      <td>1131</td>\n",
       "      <td>151</td>\n",
       "      <td>254</td>\n",
       "      <td>915</td>\n",
       "    </tr>\n",
       "    <tr>\n",
       "      <th>2</th>\n",
       "      <td>ct</td>\n",
       "      <td>lr</td>\n",
       "      <td>0.910543</td>\n",
       "      <td>0.920130</td>\n",
       "      <td>-0.009587</td>\n",
       "      <td>0.791406</td>\n",
       "      <td>0.791732</td>\n",
       "      <td>0.866553</td>\n",
       "      <td>0.827276</td>\n",
       "      <td>0.814732</td>\n",
       "      <td>0.827417</td>\n",
       "      <td>-0.012685</td>\n",
       "      <td>1015</td>\n",
       "      <td>267</td>\n",
       "      <td>156</td>\n",
       "      <td>1013</td>\n",
       "    </tr>\n",
       "    <tr>\n",
       "      <th>3</th>\n",
       "      <td>bi</td>\n",
       "      <td>lr</td>\n",
       "      <td>0.911841</td>\n",
       "      <td>0.918938</td>\n",
       "      <td>-0.007098</td>\n",
       "      <td>0.791469</td>\n",
       "      <td>0.794072</td>\n",
       "      <td>0.857143</td>\n",
       "      <td>0.822998</td>\n",
       "      <td>0.813857</td>\n",
       "      <td>0.824153</td>\n",
       "      <td>-0.010296</td>\n",
       "      <td>1018</td>\n",
       "      <td>264</td>\n",
       "      <td>167</td>\n",
       "      <td>1002</td>\n",
       "    </tr>\n",
       "    <tr>\n",
       "      <th>4</th>\n",
       "      <td>ct</td>\n",
       "      <td>svc</td>\n",
       "      <td>0.907264</td>\n",
       "      <td>0.916127</td>\n",
       "      <td>-0.008863</td>\n",
       "      <td>0.759857</td>\n",
       "      <td>0.738690</td>\n",
       "      <td>0.906758</td>\n",
       "      <td>0.826833</td>\n",
       "      <td>0.806510</td>\n",
       "      <td>0.818849</td>\n",
       "      <td>-0.012340</td>\n",
       "      <td>947</td>\n",
       "      <td>335</td>\n",
       "      <td>109</td>\n",
       "      <td>1060</td>\n",
       "    </tr>\n",
       "    <tr>\n",
       "      <th>5</th>\n",
       "      <td>bi</td>\n",
       "      <td>mnb</td>\n",
       "      <td>0.833755</td>\n",
       "      <td>0.911619</td>\n",
       "      <td>-0.077864</td>\n",
       "      <td>0.904815</td>\n",
       "      <td>0.933697</td>\n",
       "      <td>0.691189</td>\n",
       "      <td>0.783705</td>\n",
       "      <td>0.749477</td>\n",
       "      <td>0.818033</td>\n",
       "      <td>-0.068557</td>\n",
       "      <td>1197</td>\n",
       "      <td>85</td>\n",
       "      <td>361</td>\n",
       "      <td>808</td>\n",
       "    </tr>\n",
       "    <tr>\n",
       "      <th>6</th>\n",
       "      <td>bi</td>\n",
       "      <td>svc</td>\n",
       "      <td>0.907857</td>\n",
       "      <td>0.914305</td>\n",
       "      <td>-0.006447</td>\n",
       "      <td>0.753034</td>\n",
       "      <td>0.730109</td>\n",
       "      <td>0.902481</td>\n",
       "      <td>0.821012</td>\n",
       "      <td>0.804935</td>\n",
       "      <td>0.812322</td>\n",
       "      <td>-0.007386</td>\n",
       "      <td>936</td>\n",
       "      <td>346</td>\n",
       "      <td>114</td>\n",
       "      <td>1055</td>\n",
       "    </tr>\n",
       "    <tr>\n",
       "      <th>7</th>\n",
       "      <td>tf</td>\n",
       "      <td>mnb</td>\n",
       "      <td>0.881329</td>\n",
       "      <td>0.913009</td>\n",
       "      <td>-0.031680</td>\n",
       "      <td>0.896396</td>\n",
       "      <td>0.928237</td>\n",
       "      <td>0.680924</td>\n",
       "      <td>0.773943</td>\n",
       "      <td>0.805808</td>\n",
       "      <td>0.810282</td>\n",
       "      <td>-0.004474</td>\n",
       "      <td>1190</td>\n",
       "      <td>92</td>\n",
       "      <td>373</td>\n",
       "      <td>796</td>\n",
       "    </tr>\n",
       "    <tr>\n",
       "      <th>8</th>\n",
       "      <td>ct</td>\n",
       "      <td>mnb</td>\n",
       "      <td>0.867942</td>\n",
       "      <td>0.909010</td>\n",
       "      <td>-0.041068</td>\n",
       "      <td>0.907925</td>\n",
       "      <td>0.938378</td>\n",
       "      <td>0.666382</td>\n",
       "      <td>0.768624</td>\n",
       "      <td>0.784988</td>\n",
       "      <td>0.808650</td>\n",
       "      <td>-0.023661</td>\n",
       "      <td>1203</td>\n",
       "      <td>79</td>\n",
       "      <td>390</td>\n",
       "      <td>779</td>\n",
       "    </tr>\n",
       "    <tr>\n",
       "      <th>9</th>\n",
       "      <td>bi</td>\n",
       "      <td>bnb</td>\n",
       "      <td>0.876494</td>\n",
       "      <td>0.887106</td>\n",
       "      <td>-0.010612</td>\n",
       "      <td>0.604378</td>\n",
       "      <td>0.421997</td>\n",
       "      <td>0.968349</td>\n",
       "      <td>0.744247</td>\n",
       "      <td>0.666376</td>\n",
       "      <td>0.682579</td>\n",
       "      <td>-0.016203</td>\n",
       "      <td>541</td>\n",
       "      <td>741</td>\n",
       "      <td>37</td>\n",
       "      <td>1132</td>\n",
       "    </tr>\n",
       "    <tr>\n",
       "      <th>10</th>\n",
       "      <td>ct</td>\n",
       "      <td>bnb</td>\n",
       "      <td>0.876494</td>\n",
       "      <td>0.887106</td>\n",
       "      <td>-0.010612</td>\n",
       "      <td>0.604378</td>\n",
       "      <td>0.421997</td>\n",
       "      <td>0.968349</td>\n",
       "      <td>0.744247</td>\n",
       "      <td>0.666376</td>\n",
       "      <td>0.682579</td>\n",
       "      <td>-0.016203</td>\n",
       "      <td>541</td>\n",
       "      <td>741</td>\n",
       "      <td>37</td>\n",
       "      <td>1132</td>\n",
       "    </tr>\n",
       "    <tr>\n",
       "      <th>11</th>\n",
       "      <td>tf</td>\n",
       "      <td>bnb</td>\n",
       "      <td>0.876494</td>\n",
       "      <td>0.887106</td>\n",
       "      <td>-0.010612</td>\n",
       "      <td>0.604378</td>\n",
       "      <td>0.421997</td>\n",
       "      <td>0.968349</td>\n",
       "      <td>0.744247</td>\n",
       "      <td>0.666376</td>\n",
       "      <td>0.682579</td>\n",
       "      <td>-0.016203</td>\n",
       "      <td>541</td>\n",
       "      <td>741</td>\n",
       "      <td>37</td>\n",
       "      <td>1132</td>\n",
       "    </tr>\n",
       "  </tbody>\n",
       "</table>\n",
       "</div>"
      ],
      "text/plain": [
       "   vectorizer model  train_auc_cv  test_auc  auc_diff  precision  specificity  \\\n",
       "0          tf   svc      0.906574  0.920260 -0.013687   0.863977     0.886895   \n",
       "1          tf    lr      0.909922  0.920035 -0.010112   0.858349     0.882215   \n",
       "2          ct    lr      0.910543  0.920130 -0.009587   0.791406     0.791732   \n",
       "3          bi    lr      0.911841  0.918938 -0.007098   0.791469     0.794072   \n",
       "4          ct   svc      0.907264  0.916127 -0.008863   0.759857     0.738690   \n",
       "5          bi   mnb      0.833755  0.911619 -0.077864   0.904815     0.933697   \n",
       "6          bi   svc      0.907857  0.914305 -0.006447   0.753034     0.730109   \n",
       "7          tf   mnb      0.881329  0.913009 -0.031680   0.896396     0.928237   \n",
       "8          ct   mnb      0.867942  0.909010 -0.041068   0.907925     0.938378   \n",
       "9          bi   bnb      0.876494  0.887106 -0.010612   0.604378     0.421997   \n",
       "10         ct   bnb      0.876494  0.887106 -0.010612   0.604378     0.421997   \n",
       "11         tf   bnb      0.876494  0.887106 -0.010612   0.604378     0.421997   \n",
       "\n",
       "      recall   f_score  train_acc_cv  test_acc  acc_diff    TN   FP   FN    TP  \n",
       "0   0.787853  0.824161      0.821379  0.839657 -0.018279  1137  145  248   921  \n",
       "1   0.782720  0.818792      0.820329  0.834761 -0.014432  1131  151  254   915  \n",
       "2   0.866553  0.827276      0.814732  0.827417 -0.012685  1015  267  156  1013  \n",
       "3   0.857143  0.822998      0.813857  0.824153 -0.010296  1018  264  167  1002  \n",
       "4   0.906758  0.826833      0.806510  0.818849 -0.012340   947  335  109  1060  \n",
       "5   0.691189  0.783705      0.749477  0.818033 -0.068557  1197   85  361   808  \n",
       "6   0.902481  0.821012      0.804935  0.812322 -0.007386   936  346  114  1055  \n",
       "7   0.680924  0.773943      0.805808  0.810282 -0.004474  1190   92  373   796  \n",
       "8   0.666382  0.768624      0.784988  0.808650 -0.023661  1203   79  390   779  \n",
       "9   0.968349  0.744247      0.666376  0.682579 -0.016203   541  741   37  1132  \n",
       "10  0.968349  0.744247      0.666376  0.682579 -0.016203   541  741   37  1132  \n",
       "11  0.968349  0.744247      0.666376  0.682579 -0.016203   541  741   37  1132  "
      ]
     },
     "metadata": {},
     "output_type": "display_data"
    }
   ],
   "source": [
    "display(result_df1)\n",
    "display(result_df2)\n",
    "display(result_df3)"
   ]
  },
  {
   "cell_type": "markdown",
   "id": "23a5cdd8",
   "metadata": {},
   "source": [
    "* Looking at the results, the top two best models are the  TF-IDF Vectorizer X Logistic Regression Classifier combination with Ngram range (1, 2) and the TF-IDF Vectorizer X SVM classifer combination with Ngram range (1, 3)\n",
    "* Comparing the two models, the best models would have to be  **TF-IDF Vectorizer X Logistic Regression Classifier combination with Ngram range (1, 2)** \n",
    "    * Looking at roc_auc score, it has a better roc_auc score.\n",
    "    * As for accuracy, while the model has slightly worse test accuracy (~0.4% worse), it is a better tradeoff given the reduction in computation cost achieved by not including trigrams\n",
    "* With test accuracy of 83.9%, the model has outperformed the baseline model that has an accuracy of only 52.3%"
   ]
  },
  {
   "cell_type": "markdown",
   "id": "b5e4419a",
   "metadata": {},
   "source": [
    "## Results - Best Model"
   ]
  },
  {
   "cell_type": "code",
   "execution_count": 28,
   "id": "f9cb964c",
   "metadata": {},
   "outputs": [
    {
     "data": {
      "text/plain": [
       "LogisticRegression(dual=True, random_state=42, solver='liblinear')"
      ]
     },
     "execution_count": 28,
     "metadata": {},
     "output_type": "execute_result"
    }
   ],
   "source": [
    "vect = TfidfVectorizer(use_idf=True, max_df=0.95, ngram_range=(1,2))\n",
    "x_train_vect = vect.fit_transform(x_train[COL_NAME].values)\n",
    "feat_names = vect.get_feature_names() # tfidf words/col-names\n",
    "\n",
    "lr = LogisticRegression(random_state=42, penalty='l2', dual=True, solver='liblinear', C=1.0)\n",
    "lr.fit(x_train_vect, np.ravel(y_train))\n",
    "\n"
   ]
  },
  {
   "cell_type": "markdown",
   "id": "34fb2041",
   "metadata": {},
   "source": [
    "### Confusion Matrix"
   ]
  },
  {
   "cell_type": "code",
   "execution_count": 29,
   "id": "bdd58d45",
   "metadata": {
    "scrolled": true
   },
   "outputs": [
    {
     "name": "stdout",
     "output_type": "stream",
     "text": [
      "Precison: 0.852 (TP / (TP + FP))\n",
      "Recall: 0.802 (TP / (TP + FN))\n",
      "F1 Score: 0.826 (2*TP / (2*TP + FN + FP)) \n",
      "\n"
     ]
    },
    {
     "data": {
      "image/png": "[encoded data removed]",
      "text/plain": [
       "<Figure size 288x288 with 2 Axes>"
      ]
     },
     "metadata": {
      "image/png": {
       "height": 240,
       "width": 275
      },
      "needs_background": "light"
     },
     "output_type": "display_data"
    }
   ],
   "source": [
    "x_test_vect = vect.transform(x_test[COL_NAME].values)\n",
    "y_pred = lr.predict(x_test_vect)\n",
    "plot_confusion_matrix(y_test, y_pred)\n"
   ]
  },
  {
   "cell_type": "markdown",
   "id": "8ab62a7c",
   "metadata": {},
   "source": [
    "### ROC Curve"
   ]
  },
  {
   "cell_type": "code",
   "execution_count": 31,
   "id": "daf97f46",
   "metadata": {
    "scrolled": true
   },
   "outputs": [
    {
     "data": {
      "image/png": "[encoded data removed]",
      "text/plain": [
       "<Figure size 432x288 with 1 Axes>"
      ]
     },
     "metadata": {
      "image/png": {
       "height": 277,
       "width": 385
      },
      "needs_background": "light"
     },
     "output_type": "display_data"
    },
    {
     "name": "stdout",
     "output_type": "stream",
     "text": [
      "AUC Score: 0.920\n"
     ]
    }
   ],
   "source": [
    "plot_roc_curve(lr, x_test_vect, y_test)"
   ]
  },
  {
   "cell_type": "markdown",
   "id": "766c8e94",
   "metadata": {},
   "source": [
    "### Feature Importances"
   ]
  },
  {
   "cell_type": "code",
   "execution_count": null,
   "id": "1761f316",
   "metadata": {},
   "outputs": [],
   "source": [
    "coef_df = pd.Series(np.ravel(lr.coef_), index=feat_names).sort_values().to_frame('coefficient')\n",
    "btc_df_top20 = coef_df.head(20).reset_index().rename(columns={'index': \"features\"})\n",
    "eth_df_top20 = coef_df.tail(20).reset_index().rename(columns={'index': \"features\"})\n",
    "display(btc_df_top20.head())\n",
    "display(eth_df_top20.head())"
   ]
  },
  {
   "cell_type": "code",
   "execution_count": 21,
   "id": "9ab81771",
   "metadata": {},
   "outputs": [
    {
     "data": {
      "text/plain": [
       "Index(['index', 'coefficient'], dtype='object')"
      ]
     },
     "execution_count": 21,
     "metadata": {},
     "output_type": "execute_result"
    }
   ],
   "source": [
    "coef_df.reset_index().columns"
   ]
  },
  {
   "cell_type": "code",
   "execution_count": 23,
   "id": "a1ad03fb",
   "metadata": {},
   "outputs": [],
   "source": [
    "def plot_coefs(plot_df):\n",
    "    fig = plt.figure(figsize=(20,15), tight_layout = True)\n",
    "    my_range=range(0,len(plot_df))\n",
    "\n",
    "    plt.hlines(y=plot_df['features'], xmin=0,color='darkslategrey',xmax=plot_df['coefficient'],linewidth=3, alpha =0.8)\n",
    "    plt.scatter(plot_df['coefficient'], my_range,color='darkslategrey',s=80, alpha=1)\n",
    "    plt.title(\"Top 20 Most Significant Features based on Strength of Coefficients\", fontsize=20, x=0.5,y=1.02)\n",
    "    plt.xlabel('Coefficient', fontsize=20)\n",
    "    plt.ylabel('Features',fontsize=20)\n",
    "    plt.yticks(fontsize=15)\n",
    "    plt.xticks(fontsize=15)\n",
    "    plt.grid()"
   ]
  },
  {
   "cell_type": "code",
   "execution_count": 24,
   "id": "c8b92f22",
   "metadata": {},
   "outputs": [
    {
     "data": {
      "image/png": "[encoded data removed]",
      "text/plain": [
       "<Figure size 1440x1080 with 1 Axes>"
      ]
     },
     "metadata": {
      "image/png": {
       "height": 1075,
       "width": 1432
      },
      "needs_background": "light"
     },
     "output_type": "display_data"
    }
   ],
   "source": [
    "plot_coefs(btc_df_top20)"
   ]
  },
  {
   "cell_type": "code",
   "execution_count": 25,
   "id": "da44a99d",
   "metadata": {},
   "outputs": [
    {
     "data": {
      "image/png": "[encoded data removed]",
      "text/plain": [
       "<Figure size 1440x1080 with 1 Axes>"
      ]
     },
     "metadata": {
      "image/png": {
       "height": 1075,
       "width": 1432
      },
      "needs_background": "light"
     },
     "output_type": "display_data"
    }
   ],
   "source": [
    "plot_coefs(eth_df_top20)"
   ]
  },
  {
   "cell_type": "markdown",
   "id": "0028dd7a",
   "metadata": {},
   "source": [
    "## Results & Analysis"
   ]
  },
  {
   "cell_type": "markdown",
   "id": "25c96554",
   "metadata": {},
   "source": [
    "A total of 12 vectorizer-model combinations were evaluated. The vectorizers considered were  Count Vectorizer with binary=True,  Count Vectorizer with binary=False  and Tfidf Vectorizer. The models considered were Bernoulli & Multinomial Naive Bayes, Support Vector Machine, and Logistic Regression. Evaluation of the combinations was conducted using 2 metrics: accuracy and receiver operating characteristic area under curve (ROC AUC).\n",
    "\n",
    "For each combination. the text feature was first preprocessed using one of the text vectorizers before being passed into GridSearchCV to find the optimal collection of hyperparameters. Next, with the optimized model, cross validation was done with the train dataset and the model was subsequently tested using the test dataset.\n",
    "\n",
    "All in all, Tfidf Vectorizer-Logistic Regression with Ngram range( 1,2) is the combination of choice. It had the best test ROC AUC score at 0.9204 and while text accuracy is ~0.4% lower than the best test accuracy score at 83.97% (achieved with Ngram range(1,3)), the tradeoff in test accuracy was worth it for lower computational cost.\n",
    "\n",
    "The top 3 words that predicted a post to be from the Bitcoin subreddit were ‘bitcoin’, ‘lightning’, and 'year' while the top 3 words that predicted a post to be from the Ethereum subreddit were ‘ethereum’, ‘eth’, and ‘nft’. \n"
   ]
  },
  {
   "cell_type": "markdown",
   "id": "5e8670c4-5878-4117-98c6-c9ef44763331",
   "metadata": {},
   "source": [
    "## Next Steps\n",
    "* Now that we have this classifier, one possible application is in chatbots. \\\n",
    "Here, the chatbot will attempt to identify the topic of the interest based on keywords in the user's message\n",
    "*Another possible application for such a classifier would be for tagging articles\n",
    "*Of course, there is also the possibility of expanding the functionality to cover other cryptocurries as well\n"
   ]
  },
  {
   "cell_type": "code",
   "execution_count": null,
   "id": "756ccf63",
   "metadata": {},
   "outputs": [],
   "source": []
  }
 ],
 "metadata": {
  "hide_input": false,
  "kernelspec": {
   "display_name": "Python 3",
   "language": "python",
   "name": "python3"
  },
  "language_info": {
   "codemirror_mode": {
    "name": "ipython",
    "version": 3
   },
   "file_extension": ".py",
   "mimetype": "text/x-python",
   "name": "python",
   "nbconvert_exporter": "python",
   "pygments_lexer": "ipython3",
   "version": "3.8.8"
  },
  "toc": {
   "base_numbering": 1,
   "nav_menu": {},
   "number_sections": true,
   "sideBar": true,
   "skip_h1_title": false,
   "title_cell": "Table of Contents",
   "title_sidebar": "Contents",
   "toc_cell": true,
   "toc_position": {
    "height": "calc(100% - 180px)",
    "left": "10px",
    "top": "150px",
    "width": "454.053px"
   },
   "toc_section_display": true,
   "toc_window_display": true
  },
  "varInspector": {
   "cols": {
    "lenName": 16,
    "lenType": 16,
    "lenVar": 40
   },
   "kernels_config": {
    "python": {
     "delete_cmd_postfix": "",
     "delete_cmd_prefix": "del ",
     "library": "var_list.py",
     "varRefreshCmd": "print(var_dic_list())"
    },
    "r": {
     "delete_cmd_postfix": ") ",
     "delete_cmd_prefix": "rm(",
     "library": "var_list.r",
     "varRefreshCmd": "cat(var_dic_list()) "
    }
   },
   "position": {
    "height": "923.4px",
    "left": "1880.86px",
    "right": "20px",
    "top": "178px",
    "width": "374.972px"
   },
   "types_to_exclude": [
    "module",
    "function",
    "builtin_function_or_method",
    "instance",
    "_Feature"
   ],
   "window_display": true
  }
 },
 "nbformat": 4,
 "nbformat_minor": 5
}
